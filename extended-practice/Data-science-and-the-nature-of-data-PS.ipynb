{
 "cells": [
  {
   "cell_type": "markdown",
   "metadata": {
    "deletable": false,
    "editable": false
   },
   "source": [
    "Copyright 2022 Andrew M. Olney and made available under [CC BY-SA](https://creativecommons.org/licenses/by-sa/4.0) for text and [Apache-2.0](http://www.apache.org/licenses/LICENSE-2.0) for code."
   ]
  },
  {
   "cell_type": "markdown",
   "metadata": {},
   "source": [
    "# Data Science and the Nature of Data: Problem Solving\n",
    "\n",
    "This notebook is a companion to [Data Science and the Nature of Data](Data-science-and-the-nature-of-data.ipynb) so please read that first.\n",
    "\n",
    "## Problem\n",
    "\n",
    "We will be working with [a set of flower images](https://drive.google.com/file/d/16OFwIazU-dnu27kzP08iuZvk_lnBK9Ak/view?usp=sharing).\n",
    "As discussed in the last notebook, this is *unstructured data*.\n",
    "\n",
    "A previous group has manually coded these data with three variables:\n",
    "\n",
    "- PetalColor: unicolor or multicolor\n",
    "- PetalShape: rounded or unrounded\n",
    "- Size: small, medium, or large\n",
    "\n",
    "In this session, you will load the data into a dataframe in Jupyter manipulate rows and columns of the data.\n",
    "\n",
    "## Load the data into a dataframe \n",
    "\n",
    "Use [Data Science and the Nature of Data](Data-science-and-the-nature-of-data.ipynb) if you've forgotten any of these steps.\n",
    "\n",
    "Import the `readr` library, which lets us work with dataframes:\n",
    "\n",
    "- `library readr`"
   ]
  },
  {
   "cell_type": "code",
   "execution_count": 1,
   "metadata": {},
   "outputs": [],
   "source": [
    "library(readr)\n",
    "\n",
    "#<xml xmlns=\"https://developers.google.com/blockly/xml\"><variables><variable id=\"(cA1)X2lCPQio$W{:j4y\">readr</variable></variables><block type=\"import_R\" id=\"Gv_0#Q!yW+GN:NDyn9P/\" x=\"16\" y=\"10\"><field name=\"libraryName\" id=\"(cA1)X2lCPQio$W{:j4y\">readr</field></block></xml>"
   ]
  },
  {
   "cell_type": "markdown",
   "metadata": {},
   "source": [
    "Load a dataframe with the data in \"datasets/flowers.csv\" and display it:\n",
    "\n",
    "- Set `dataframe` to `with readr do read_csv using \"datasets/flowers.csv\"`\n",
    "- `dataframe` (to display)"
   ]
  },
  {
   "cell_type": "code",
   "execution_count": 2,
   "metadata": {},
   "outputs": [
    {
     "name": "stderr",
     "output_type": "stream",
     "text": [
      "\u001b[1mRows: \u001b[22m\u001b[34m210\u001b[39m \u001b[1mColumns: \u001b[22m\u001b[34m4\u001b[39m\n",
      "\u001b[36m──\u001b[39m \u001b[1mColumn specification\u001b[22m \u001b[36m────────────────────────────────────────────────────────\u001b[39m\n",
      "\u001b[1mDelimiter:\u001b[22m \",\"\n",
      "\u001b[31mchr\u001b[39m (4): File, PetalColor, PetalShape, Size\n",
      "\n",
      "\u001b[36mℹ\u001b[39m Use `spec()` to retrieve the full column specification for this data.\n",
      "\u001b[36mℹ\u001b[39m Specify the column types or set `show_col_types = FALSE` to quiet this message.\n"
     ]
    },
    {
     "data": {
      "text/html": [
       "<table class=\"dataframe\">\n",
       "<caption>A spec_tbl_df: 210 × 4</caption>\n",
       "<thead>\n",
       "\t<tr><th scope=col>File</th><th scope=col>PetalColor</th><th scope=col>PetalShape</th><th scope=col>Size</th></tr>\n",
       "\t<tr><th scope=col>&lt;chr&gt;</th><th scope=col>&lt;chr&gt;</th><th scope=col>&lt;chr&gt;</th><th scope=col>&lt;chr&gt;</th></tr>\n",
       "</thead>\n",
       "<tbody>\n",
       "\t<tr><td>0001.png</td><td>multicolor</td><td>rounded  </td><td>medium</td></tr>\n",
       "\t<tr><td>0002.png</td><td>unicolor  </td><td>rounded  </td><td>medium</td></tr>\n",
       "\t<tr><td>0003.png</td><td>unicolor  </td><td>unrounded</td><td>large </td></tr>\n",
       "\t<tr><td>0004.png</td><td>multicolor</td><td>rounded  </td><td>medium</td></tr>\n",
       "\t<tr><td>0005.png</td><td>multicolor</td><td>rounded  </td><td>small </td></tr>\n",
       "\t<tr><td>0006.png</td><td>unicolor  </td><td>rounded  </td><td>small </td></tr>\n",
       "\t<tr><td>0007.png</td><td>unicolor  </td><td>rounded  </td><td>medium</td></tr>\n",
       "\t<tr><td>0008.png</td><td>unicolor  </td><td>rounded  </td><td>medium</td></tr>\n",
       "\t<tr><td>0009.png</td><td>unicolor  </td><td>rounded  </td><td>small </td></tr>\n",
       "\t<tr><td>0010.png</td><td>unicolor  </td><td>rounded  </td><td>small </td></tr>\n",
       "\t<tr><td>⋮</td><td>⋮</td><td>⋮</td><td>⋮</td></tr>\n",
       "\t<tr><td>0201.png</td><td>unicolor  </td><td>rounded  </td><td>medium</td></tr>\n",
       "\t<tr><td>0202.png</td><td>multicolor</td><td>unrounded</td><td>large </td></tr>\n",
       "\t<tr><td>0203.png</td><td>multicolor</td><td>unrounded</td><td>large </td></tr>\n",
       "\t<tr><td>0204.png</td><td>unicolor  </td><td>unrounded</td><td>small </td></tr>\n",
       "\t<tr><td>0205.png</td><td>unicolor  </td><td>unrounded</td><td>medium</td></tr>\n",
       "\t<tr><td>0206.png</td><td>multicolor</td><td>rounded  </td><td>large </td></tr>\n",
       "\t<tr><td>0207.png</td><td>unicolor  </td><td>rounded  </td><td>large </td></tr>\n",
       "\t<tr><td>0208.png</td><td>unicolor  </td><td>unrounded</td><td>large </td></tr>\n",
       "\t<tr><td>0209.png</td><td>multicolor</td><td>rounded  </td><td>medium</td></tr>\n",
       "\t<tr><td>0210.png</td><td>unicolor  </td><td>rounded  </td><td>small </td></tr>\n",
       "</tbody>\n",
       "</table>\n"
      ],
      "text/latex": [
       "A spec\\_tbl\\_df: 210 × 4\n",
       "\\begin{tabular}{llll}\n",
       " File & PetalColor & PetalShape & Size\\\\\n",
       " <chr> & <chr> & <chr> & <chr>\\\\\n",
       "\\hline\n",
       "\t 0001.png & multicolor & rounded   & medium\\\\\n",
       "\t 0002.png & unicolor   & rounded   & medium\\\\\n",
       "\t 0003.png & unicolor   & unrounded & large \\\\\n",
       "\t 0004.png & multicolor & rounded   & medium\\\\\n",
       "\t 0005.png & multicolor & rounded   & small \\\\\n",
       "\t 0006.png & unicolor   & rounded   & small \\\\\n",
       "\t 0007.png & unicolor   & rounded   & medium\\\\\n",
       "\t 0008.png & unicolor   & rounded   & medium\\\\\n",
       "\t 0009.png & unicolor   & rounded   & small \\\\\n",
       "\t 0010.png & unicolor   & rounded   & small \\\\\n",
       "\t ⋮ & ⋮ & ⋮ & ⋮\\\\\n",
       "\t 0201.png & unicolor   & rounded   & medium\\\\\n",
       "\t 0202.png & multicolor & unrounded & large \\\\\n",
       "\t 0203.png & multicolor & unrounded & large \\\\\n",
       "\t 0204.png & unicolor   & unrounded & small \\\\\n",
       "\t 0205.png & unicolor   & unrounded & medium\\\\\n",
       "\t 0206.png & multicolor & rounded   & large \\\\\n",
       "\t 0207.png & unicolor   & rounded   & large \\\\\n",
       "\t 0208.png & unicolor   & unrounded & large \\\\\n",
       "\t 0209.png & multicolor & rounded   & medium\\\\\n",
       "\t 0210.png & unicolor   & rounded   & small \\\\\n",
       "\\end{tabular}\n"
      ],
      "text/markdown": [
       "\n",
       "A spec_tbl_df: 210 × 4\n",
       "\n",
       "| File &lt;chr&gt; | PetalColor &lt;chr&gt; | PetalShape &lt;chr&gt; | Size &lt;chr&gt; |\n",
       "|---|---|---|---|\n",
       "| 0001.png | multicolor | rounded   | medium |\n",
       "| 0002.png | unicolor   | rounded   | medium |\n",
       "| 0003.png | unicolor   | unrounded | large  |\n",
       "| 0004.png | multicolor | rounded   | medium |\n",
       "| 0005.png | multicolor | rounded   | small  |\n",
       "| 0006.png | unicolor   | rounded   | small  |\n",
       "| 0007.png | unicolor   | rounded   | medium |\n",
       "| 0008.png | unicolor   | rounded   | medium |\n",
       "| 0009.png | unicolor   | rounded   | small  |\n",
       "| 0010.png | unicolor   | rounded   | small  |\n",
       "| ⋮ | ⋮ | ⋮ | ⋮ |\n",
       "| 0201.png | unicolor   | rounded   | medium |\n",
       "| 0202.png | multicolor | unrounded | large  |\n",
       "| 0203.png | multicolor | unrounded | large  |\n",
       "| 0204.png | unicolor   | unrounded | small  |\n",
       "| 0205.png | unicolor   | unrounded | medium |\n",
       "| 0206.png | multicolor | rounded   | large  |\n",
       "| 0207.png | unicolor   | rounded   | large  |\n",
       "| 0208.png | unicolor   | unrounded | large  |\n",
       "| 0209.png | multicolor | rounded   | medium |\n",
       "| 0210.png | unicolor   | rounded   | small  |\n",
       "\n"
      ],
      "text/plain": [
       "    File     PetalColor PetalShape Size  \n",
       "1   0001.png multicolor rounded    medium\n",
       "2   0002.png unicolor   rounded    medium\n",
       "3   0003.png unicolor   unrounded  large \n",
       "4   0004.png multicolor rounded    medium\n",
       "5   0005.png multicolor rounded    small \n",
       "6   0006.png unicolor   rounded    small \n",
       "7   0007.png unicolor   rounded    medium\n",
       "8   0008.png unicolor   rounded    medium\n",
       "9   0009.png unicolor   rounded    small \n",
       "10  0010.png unicolor   rounded    small \n",
       "⋮   ⋮        ⋮          ⋮          ⋮     \n",
       "201 0201.png unicolor   rounded    medium\n",
       "202 0202.png multicolor unrounded  large \n",
       "203 0203.png multicolor unrounded  large \n",
       "204 0204.png unicolor   unrounded  small \n",
       "205 0205.png unicolor   unrounded  medium\n",
       "206 0206.png multicolor rounded    large \n",
       "207 0207.png unicolor   rounded    large \n",
       "208 0208.png unicolor   unrounded  large \n",
       "209 0209.png multicolor rounded    medium\n",
       "210 0210.png unicolor   rounded    small "
      ]
     },
     "metadata": {},
     "output_type": "display_data"
    }
   ],
   "source": [
    "dataframe = readr::read_csv(\"datasets/flowers.csv\")\n",
    "\n",
    "dataframe\n",
    "\n",
    "#<xml xmlns=\"https://developers.google.com/blockly/xml\"><variables><variable id=\"t[n^Fcp7,s93E17ZZ9J6\">dataframe</variable><variable id=\"(cA1)X2lCPQio$W{:j4y\">readr</variable></variables><block type=\"variables_set\" id=\"aEmL:SB)NF-^e4,:*KEN\" x=\"17\" y=\"204\"><field name=\"VAR\" id=\"t[n^Fcp7,s93E17ZZ9J6\">dataframe</field><value name=\"VALUE\"><block type=\"varDoMethod_R\" id=\"!AFB9x,(K:Q.,_2FYY+u\"><mutation items=\"1\"></mutation><field name=\"VAR\" id=\"(cA1)X2lCPQio$W{:j4y\">readr</field><field name=\"MEMBER\">read_csv</field><data>readr:read_csv</data><value name=\"ADD0\"><block type=\"text\" id=\"]^)Tk(d-R3[)=xBi|9=?\"><field name=\"TEXT\">datasets/flowers.csv</field></block></value></block></value></block><block type=\"variables_get\" id=\"3?lrwsCvbw.I,.6Ab_k/\" x=\"13\" y=\"283\"><field name=\"VAR\" id=\"t[n^Fcp7,s93E17ZZ9J6\">dataframe</field></block></xml>"
   ]
  },
  {
   "cell_type": "markdown",
   "metadata": {},
   "source": [
    "**QUESTION:**\n",
    "\n",
    "What are the variable types for each variable?\n",
    "\n",
    "**ANSWER: (click here to edit)**\n",
    "\n",
    "- PetalColor: nominal\n",
    "- PetalShape: nominal\n",
    "- Size: ordinal\n"
   ]
  },
  {
   "cell_type": "markdown",
   "metadata": {},
   "source": [
    "Load the `dplyr` library for row/col selection:\n",
    "\n",
    "- `library dplyr`"
   ]
  },
  {
   "cell_type": "code",
   "execution_count": 4,
   "metadata": {},
   "outputs": [
    {
     "name": "stderr",
     "output_type": "stream",
     "text": [
      "Warning message:\n",
      "“package ‘dplyr’ was built under R version 4.1.3”\n",
      "\n",
      "Attaching package: ‘dplyr’\n",
      "\n",
      "\n",
      "The following objects are masked from ‘package:stats’:\n",
      "\n",
      "    filter, lag\n",
      "\n",
      "\n",
      "The following objects are masked from ‘package:base’:\n",
      "\n",
      "    intersect, setdiff, setequal, union\n",
      "\n",
      "\n"
     ]
    }
   ],
   "source": [
    "library(dplyr)\n",
    "\n",
    "#<xml xmlns=\"https://developers.google.com/blockly/xml\"><variables><variable id=\"LiPrc==C!jd{;fWA-(}6\">dplyr</variable></variables><block type=\"import_R\" id=\"K.nY/JzUnFt!B~)xw=j7\" x=\"16\" y=\"10\"><field name=\"libraryName\" id=\"LiPrc==C!jd{;fWA-(}6\">dplyr</field></block></xml>"
   ]
  },
  {
   "cell_type": "markdown",
   "metadata": {},
   "source": [
    "Select the first 10 rows of the data:"
   ]
  },
  {
   "cell_type": "markdown",
   "metadata": {},
   "source": [
    "- with `dplyr` do `slice` using `dataframe` and `1:10` "
   ]
  },
  {
   "cell_type": "code",
   "execution_count": 5,
   "metadata": {},
   "outputs": [
    {
     "data": {
      "text/html": [
       "<table class=\"dataframe\">\n",
       "<caption>A spec_tbl_df: 10 × 4</caption>\n",
       "<thead>\n",
       "\t<tr><th scope=col>File</th><th scope=col>PetalColor</th><th scope=col>PetalShape</th><th scope=col>Size</th></tr>\n",
       "\t<tr><th scope=col>&lt;chr&gt;</th><th scope=col>&lt;chr&gt;</th><th scope=col>&lt;chr&gt;</th><th scope=col>&lt;chr&gt;</th></tr>\n",
       "</thead>\n",
       "<tbody>\n",
       "\t<tr><td>0001.png</td><td>multicolor</td><td>rounded  </td><td>medium</td></tr>\n",
       "\t<tr><td>0002.png</td><td>unicolor  </td><td>rounded  </td><td>medium</td></tr>\n",
       "\t<tr><td>0003.png</td><td>unicolor  </td><td>unrounded</td><td>large </td></tr>\n",
       "\t<tr><td>0004.png</td><td>multicolor</td><td>rounded  </td><td>medium</td></tr>\n",
       "\t<tr><td>0005.png</td><td>multicolor</td><td>rounded  </td><td>small </td></tr>\n",
       "\t<tr><td>0006.png</td><td>unicolor  </td><td>rounded  </td><td>small </td></tr>\n",
       "\t<tr><td>0007.png</td><td>unicolor  </td><td>rounded  </td><td>medium</td></tr>\n",
       "\t<tr><td>0008.png</td><td>unicolor  </td><td>rounded  </td><td>medium</td></tr>\n",
       "\t<tr><td>0009.png</td><td>unicolor  </td><td>rounded  </td><td>small </td></tr>\n",
       "\t<tr><td>0010.png</td><td>unicolor  </td><td>rounded  </td><td>small </td></tr>\n",
       "</tbody>\n",
       "</table>\n"
      ],
      "text/latex": [
       "A spec\\_tbl\\_df: 10 × 4\n",
       "\\begin{tabular}{llll}\n",
       " File & PetalColor & PetalShape & Size\\\\\n",
       " <chr> & <chr> & <chr> & <chr>\\\\\n",
       "\\hline\n",
       "\t 0001.png & multicolor & rounded   & medium\\\\\n",
       "\t 0002.png & unicolor   & rounded   & medium\\\\\n",
       "\t 0003.png & unicolor   & unrounded & large \\\\\n",
       "\t 0004.png & multicolor & rounded   & medium\\\\\n",
       "\t 0005.png & multicolor & rounded   & small \\\\\n",
       "\t 0006.png & unicolor   & rounded   & small \\\\\n",
       "\t 0007.png & unicolor   & rounded   & medium\\\\\n",
       "\t 0008.png & unicolor   & rounded   & medium\\\\\n",
       "\t 0009.png & unicolor   & rounded   & small \\\\\n",
       "\t 0010.png & unicolor   & rounded   & small \\\\\n",
       "\\end{tabular}\n"
      ],
      "text/markdown": [
       "\n",
       "A spec_tbl_df: 10 × 4\n",
       "\n",
       "| File &lt;chr&gt; | PetalColor &lt;chr&gt; | PetalShape &lt;chr&gt; | Size &lt;chr&gt; |\n",
       "|---|---|---|---|\n",
       "| 0001.png | multicolor | rounded   | medium |\n",
       "| 0002.png | unicolor   | rounded   | medium |\n",
       "| 0003.png | unicolor   | unrounded | large  |\n",
       "| 0004.png | multicolor | rounded   | medium |\n",
       "| 0005.png | multicolor | rounded   | small  |\n",
       "| 0006.png | unicolor   | rounded   | small  |\n",
       "| 0007.png | unicolor   | rounded   | medium |\n",
       "| 0008.png | unicolor   | rounded   | medium |\n",
       "| 0009.png | unicolor   | rounded   | small  |\n",
       "| 0010.png | unicolor   | rounded   | small  |\n",
       "\n"
      ],
      "text/plain": [
       "   File     PetalColor PetalShape Size  \n",
       "1  0001.png multicolor rounded    medium\n",
       "2  0002.png unicolor   rounded    medium\n",
       "3  0003.png unicolor   unrounded  large \n",
       "4  0004.png multicolor rounded    medium\n",
       "5  0005.png multicolor rounded    small \n",
       "6  0006.png unicolor   rounded    small \n",
       "7  0007.png unicolor   rounded    medium\n",
       "8  0008.png unicolor   rounded    medium\n",
       "9  0009.png unicolor   rounded    small \n",
       "10 0010.png unicolor   rounded    small "
      ]
     },
     "metadata": {},
     "output_type": "display_data"
    }
   ],
   "source": [
    "dplyr::slice(dataframe,1:10)\n",
    "\n",
    "#<xml xmlns=\"https://developers.google.com/blockly/xml\"><variables><variable id=\"LiPrc==C!jd{;fWA-(}6\">dplyr</variable><variable id=\"t[n^Fcp7,s93E17ZZ9J6\">dataframe</variable></variables><block type=\"varDoMethod_R\" id=\"$|@c}XUhYyE.FtSAhaE%\" x=\"8\" y=\"176\"><mutation items=\"2\"></mutation><field name=\"VAR\" id=\"LiPrc==C!jd{;fWA-(}6\">dplyr</field><field name=\"MEMBER\">slice</field><data>dplyr:slice</data><value name=\"ADD0\"><block type=\"variables_get\" id=\"0^vw_mn4A5MRT%xD%Qm(\"><field name=\"VAR\" id=\"t[n^Fcp7,s93E17ZZ9J6\">dataframe</field></block></value><value name=\"ADD1\"><block type=\"dummyOutputCodeBlock_R\" id=\"O?ev4Bf5{{xYFXU=Cc_Y\"><field name=\"CODE\">1:10</field></block></value></block></xml>"
   ]
  },
  {
   "cell_type": "markdown",
   "metadata": {},
   "source": [
    "Select the last 10 rows of the data.\n",
    "You can do this by looking at how many rows there are in the dataframe when you loaded it:"
   ]
  },
  {
   "cell_type": "markdown",
   "metadata": {},
   "source": [
    "- with `dplyr` do `slice` using `dataframe` and `200:210` "
   ]
  },
  {
   "cell_type": "code",
   "execution_count": 6,
   "metadata": {},
   "outputs": [
    {
     "data": {
      "text/html": [
       "<table class=\"dataframe\">\n",
       "<caption>A spec_tbl_df: 11 × 4</caption>\n",
       "<thead>\n",
       "\t<tr><th scope=col>File</th><th scope=col>PetalColor</th><th scope=col>PetalShape</th><th scope=col>Size</th></tr>\n",
       "\t<tr><th scope=col>&lt;chr&gt;</th><th scope=col>&lt;chr&gt;</th><th scope=col>&lt;chr&gt;</th><th scope=col>&lt;chr&gt;</th></tr>\n",
       "</thead>\n",
       "<tbody>\n",
       "\t<tr><td>0200.png</td><td>unicolor  </td><td>unrounded</td><td>small </td></tr>\n",
       "\t<tr><td>0201.png</td><td>unicolor  </td><td>rounded  </td><td>medium</td></tr>\n",
       "\t<tr><td>0202.png</td><td>multicolor</td><td>unrounded</td><td>large </td></tr>\n",
       "\t<tr><td>0203.png</td><td>multicolor</td><td>unrounded</td><td>large </td></tr>\n",
       "\t<tr><td>0204.png</td><td>unicolor  </td><td>unrounded</td><td>small </td></tr>\n",
       "\t<tr><td>0205.png</td><td>unicolor  </td><td>unrounded</td><td>medium</td></tr>\n",
       "\t<tr><td>0206.png</td><td>multicolor</td><td>rounded  </td><td>large </td></tr>\n",
       "\t<tr><td>0207.png</td><td>unicolor  </td><td>rounded  </td><td>large </td></tr>\n",
       "\t<tr><td>0208.png</td><td>unicolor  </td><td>unrounded</td><td>large </td></tr>\n",
       "\t<tr><td>0209.png</td><td>multicolor</td><td>rounded  </td><td>medium</td></tr>\n",
       "\t<tr><td>0210.png</td><td>unicolor  </td><td>rounded  </td><td>small </td></tr>\n",
       "</tbody>\n",
       "</table>\n"
      ],
      "text/latex": [
       "A spec\\_tbl\\_df: 11 × 4\n",
       "\\begin{tabular}{llll}\n",
       " File & PetalColor & PetalShape & Size\\\\\n",
       " <chr> & <chr> & <chr> & <chr>\\\\\n",
       "\\hline\n",
       "\t 0200.png & unicolor   & unrounded & small \\\\\n",
       "\t 0201.png & unicolor   & rounded   & medium\\\\\n",
       "\t 0202.png & multicolor & unrounded & large \\\\\n",
       "\t 0203.png & multicolor & unrounded & large \\\\\n",
       "\t 0204.png & unicolor   & unrounded & small \\\\\n",
       "\t 0205.png & unicolor   & unrounded & medium\\\\\n",
       "\t 0206.png & multicolor & rounded   & large \\\\\n",
       "\t 0207.png & unicolor   & rounded   & large \\\\\n",
       "\t 0208.png & unicolor   & unrounded & large \\\\\n",
       "\t 0209.png & multicolor & rounded   & medium\\\\\n",
       "\t 0210.png & unicolor   & rounded   & small \\\\\n",
       "\\end{tabular}\n"
      ],
      "text/markdown": [
       "\n",
       "A spec_tbl_df: 11 × 4\n",
       "\n",
       "| File &lt;chr&gt; | PetalColor &lt;chr&gt; | PetalShape &lt;chr&gt; | Size &lt;chr&gt; |\n",
       "|---|---|---|---|\n",
       "| 0200.png | unicolor   | unrounded | small  |\n",
       "| 0201.png | unicolor   | rounded   | medium |\n",
       "| 0202.png | multicolor | unrounded | large  |\n",
       "| 0203.png | multicolor | unrounded | large  |\n",
       "| 0204.png | unicolor   | unrounded | small  |\n",
       "| 0205.png | unicolor   | unrounded | medium |\n",
       "| 0206.png | multicolor | rounded   | large  |\n",
       "| 0207.png | unicolor   | rounded   | large  |\n",
       "| 0208.png | unicolor   | unrounded | large  |\n",
       "| 0209.png | multicolor | rounded   | medium |\n",
       "| 0210.png | unicolor   | rounded   | small  |\n",
       "\n"
      ],
      "text/plain": [
       "   File     PetalColor PetalShape Size  \n",
       "1  0200.png unicolor   unrounded  small \n",
       "2  0201.png unicolor   rounded    medium\n",
       "3  0202.png multicolor unrounded  large \n",
       "4  0203.png multicolor unrounded  large \n",
       "5  0204.png unicolor   unrounded  small \n",
       "6  0205.png unicolor   unrounded  medium\n",
       "7  0206.png multicolor rounded    large \n",
       "8  0207.png unicolor   rounded    large \n",
       "9  0208.png unicolor   unrounded  large \n",
       "10 0209.png multicolor rounded    medium\n",
       "11 0210.png unicolor   rounded    small "
      ]
     },
     "metadata": {},
     "output_type": "display_data"
    }
   ],
   "source": [
    "dplyr::slice(dataframe,200:210)\n",
    "\n",
    "#<xml xmlns=\"https://developers.google.com/blockly/xml\"><variables><variable id=\"LiPrc==C!jd{;fWA-(}6\">dplyr</variable><variable id=\"t[n^Fcp7,s93E17ZZ9J6\">dataframe</variable></variables><block type=\"varDoMethod_R\" id=\"$|@c}XUhYyE.FtSAhaE%\" x=\"8\" y=\"176\"><mutation items=\"2\"></mutation><field name=\"VAR\" id=\"LiPrc==C!jd{;fWA-(}6\">dplyr</field><field name=\"MEMBER\">slice</field><data>dplyr:slice</data><value name=\"ADD0\"><block type=\"variables_get\" id=\"0^vw_mn4A5MRT%xD%Qm(\"><field name=\"VAR\" id=\"t[n^Fcp7,s93E17ZZ9J6\">dataframe</field></block></value><value name=\"ADD1\"><block type=\"dummyOutputCodeBlock_R\" id=\"O?ev4Bf5{{xYFXU=Cc_Y\"><field name=\"CODE\">200:210</field></block></value></block></xml>"
   ]
  },
  {
   "cell_type": "markdown",
   "metadata": {},
   "source": [
    "Select the middle 10 rows of the data:"
   ]
  },
  {
   "cell_type": "markdown",
   "metadata": {},
   "source": [
    "- with `dplyr` do `slice` using `dataframe` and `96:105` "
   ]
  },
  {
   "cell_type": "code",
   "execution_count": 7,
   "metadata": {},
   "outputs": [
    {
     "data": {
      "text/html": [
       "<table class=\"dataframe\">\n",
       "<caption>A spec_tbl_df: 10 × 4</caption>\n",
       "<thead>\n",
       "\t<tr><th scope=col>File</th><th scope=col>PetalColor</th><th scope=col>PetalShape</th><th scope=col>Size</th></tr>\n",
       "\t<tr><th scope=col>&lt;chr&gt;</th><th scope=col>&lt;chr&gt;</th><th scope=col>&lt;chr&gt;</th><th scope=col>&lt;chr&gt;</th></tr>\n",
       "</thead>\n",
       "<tbody>\n",
       "\t<tr><td>0096.png</td><td>unicolor  </td><td>rounded  </td><td>medium</td></tr>\n",
       "\t<tr><td>0097.png</td><td>unicolor  </td><td>unrounded</td><td>medium</td></tr>\n",
       "\t<tr><td>0098.png</td><td>multicolor</td><td>rounded  </td><td>medium</td></tr>\n",
       "\t<tr><td>0099.png</td><td>unicolor  </td><td>rounded  </td><td>medium</td></tr>\n",
       "\t<tr><td>0100.png</td><td>unicolor  </td><td>rounded  </td><td>medium</td></tr>\n",
       "\t<tr><td>0101.png</td><td>multicolor</td><td>unrounded</td><td>medium</td></tr>\n",
       "\t<tr><td>0102.png</td><td>unicolor  </td><td>unrounded</td><td>medium</td></tr>\n",
       "\t<tr><td>0103.png</td><td>unicolor  </td><td>unrounded</td><td>small </td></tr>\n",
       "\t<tr><td>0104.png</td><td>unicolor  </td><td>rounded  </td><td>small </td></tr>\n",
       "\t<tr><td>0105.png</td><td>multicolor</td><td>unrounded</td><td>large </td></tr>\n",
       "</tbody>\n",
       "</table>\n"
      ],
      "text/latex": [
       "A spec\\_tbl\\_df: 10 × 4\n",
       "\\begin{tabular}{llll}\n",
       " File & PetalColor & PetalShape & Size\\\\\n",
       " <chr> & <chr> & <chr> & <chr>\\\\\n",
       "\\hline\n",
       "\t 0096.png & unicolor   & rounded   & medium\\\\\n",
       "\t 0097.png & unicolor   & unrounded & medium\\\\\n",
       "\t 0098.png & multicolor & rounded   & medium\\\\\n",
       "\t 0099.png & unicolor   & rounded   & medium\\\\\n",
       "\t 0100.png & unicolor   & rounded   & medium\\\\\n",
       "\t 0101.png & multicolor & unrounded & medium\\\\\n",
       "\t 0102.png & unicolor   & unrounded & medium\\\\\n",
       "\t 0103.png & unicolor   & unrounded & small \\\\\n",
       "\t 0104.png & unicolor   & rounded   & small \\\\\n",
       "\t 0105.png & multicolor & unrounded & large \\\\\n",
       "\\end{tabular}\n"
      ],
      "text/markdown": [
       "\n",
       "A spec_tbl_df: 10 × 4\n",
       "\n",
       "| File &lt;chr&gt; | PetalColor &lt;chr&gt; | PetalShape &lt;chr&gt; | Size &lt;chr&gt; |\n",
       "|---|---|---|---|\n",
       "| 0096.png | unicolor   | rounded   | medium |\n",
       "| 0097.png | unicolor   | unrounded | medium |\n",
       "| 0098.png | multicolor | rounded   | medium |\n",
       "| 0099.png | unicolor   | rounded   | medium |\n",
       "| 0100.png | unicolor   | rounded   | medium |\n",
       "| 0101.png | multicolor | unrounded | medium |\n",
       "| 0102.png | unicolor   | unrounded | medium |\n",
       "| 0103.png | unicolor   | unrounded | small  |\n",
       "| 0104.png | unicolor   | rounded   | small  |\n",
       "| 0105.png | multicolor | unrounded | large  |\n",
       "\n"
      ],
      "text/plain": [
       "   File     PetalColor PetalShape Size  \n",
       "1  0096.png unicolor   rounded    medium\n",
       "2  0097.png unicolor   unrounded  medium\n",
       "3  0098.png multicolor rounded    medium\n",
       "4  0099.png unicolor   rounded    medium\n",
       "5  0100.png unicolor   rounded    medium\n",
       "6  0101.png multicolor unrounded  medium\n",
       "7  0102.png unicolor   unrounded  medium\n",
       "8  0103.png unicolor   unrounded  small \n",
       "9  0104.png unicolor   rounded    small \n",
       "10 0105.png multicolor unrounded  large "
      ]
     },
     "metadata": {},
     "output_type": "display_data"
    }
   ],
   "source": [
    "dplyr::slice(dataframe,96:105)\n",
    "\n",
    "#<xml xmlns=\"https://developers.google.com/blockly/xml\"><variables><variable id=\"LiPrc==C!jd{;fWA-(}6\">dplyr</variable><variable id=\"t[n^Fcp7,s93E17ZZ9J6\">dataframe</variable></variables><block type=\"varDoMethod_R\" id=\"$|@c}XUhYyE.FtSAhaE%\" x=\"8\" y=\"176\"><mutation items=\"2\"></mutation><field name=\"VAR\" id=\"LiPrc==C!jd{;fWA-(}6\">dplyr</field><field name=\"MEMBER\">slice</field><data>dplyr:slice</data><value name=\"ADD0\"><block type=\"variables_get\" id=\"0^vw_mn4A5MRT%xD%Qm(\"><field name=\"VAR\" id=\"t[n^Fcp7,s93E17ZZ9J6\">dataframe</field></block></value><value name=\"ADD1\"><block type=\"dummyOutputCodeBlock_R\" id=\"O?ev4Bf5{{xYFXU=Cc_Y\"><field name=\"CODE\">96:105</field></block></value></block></xml>"
   ]
  },
  {
   "cell_type": "markdown",
   "metadata": {},
   "source": [
    "Select the first two columns of the data:"
   ]
  },
  {
   "cell_type": "markdown",
   "metadata": {},
   "source": [
    "- with `dplyr` do `select` using `dataframe` and `PetalColor:PetalShape` "
   ]
  },
  {
   "cell_type": "code",
   "execution_count": 8,
   "metadata": {},
   "outputs": [
    {
     "data": {
      "text/html": [
       "<table class=\"dataframe\">\n",
       "<caption>A tibble: 210 × 2</caption>\n",
       "<thead>\n",
       "\t<tr><th scope=col>PetalColor</th><th scope=col>PetalShape</th></tr>\n",
       "\t<tr><th scope=col>&lt;chr&gt;</th><th scope=col>&lt;chr&gt;</th></tr>\n",
       "</thead>\n",
       "<tbody>\n",
       "\t<tr><td>multicolor</td><td>rounded  </td></tr>\n",
       "\t<tr><td>unicolor  </td><td>rounded  </td></tr>\n",
       "\t<tr><td>unicolor  </td><td>unrounded</td></tr>\n",
       "\t<tr><td>multicolor</td><td>rounded  </td></tr>\n",
       "\t<tr><td>multicolor</td><td>rounded  </td></tr>\n",
       "\t<tr><td>unicolor  </td><td>rounded  </td></tr>\n",
       "\t<tr><td>unicolor  </td><td>rounded  </td></tr>\n",
       "\t<tr><td>unicolor  </td><td>rounded  </td></tr>\n",
       "\t<tr><td>unicolor  </td><td>rounded  </td></tr>\n",
       "\t<tr><td>unicolor  </td><td>rounded  </td></tr>\n",
       "\t<tr><td>⋮</td><td>⋮</td></tr>\n",
       "\t<tr><td>unicolor  </td><td>rounded  </td></tr>\n",
       "\t<tr><td>multicolor</td><td>unrounded</td></tr>\n",
       "\t<tr><td>multicolor</td><td>unrounded</td></tr>\n",
       "\t<tr><td>unicolor  </td><td>unrounded</td></tr>\n",
       "\t<tr><td>unicolor  </td><td>unrounded</td></tr>\n",
       "\t<tr><td>multicolor</td><td>rounded  </td></tr>\n",
       "\t<tr><td>unicolor  </td><td>rounded  </td></tr>\n",
       "\t<tr><td>unicolor  </td><td>unrounded</td></tr>\n",
       "\t<tr><td>multicolor</td><td>rounded  </td></tr>\n",
       "\t<tr><td>unicolor  </td><td>rounded  </td></tr>\n",
       "</tbody>\n",
       "</table>\n"
      ],
      "text/latex": [
       "A tibble: 210 × 2\n",
       "\\begin{tabular}{ll}\n",
       " PetalColor & PetalShape\\\\\n",
       " <chr> & <chr>\\\\\n",
       "\\hline\n",
       "\t multicolor & rounded  \\\\\n",
       "\t unicolor   & rounded  \\\\\n",
       "\t unicolor   & unrounded\\\\\n",
       "\t multicolor & rounded  \\\\\n",
       "\t multicolor & rounded  \\\\\n",
       "\t unicolor   & rounded  \\\\\n",
       "\t unicolor   & rounded  \\\\\n",
       "\t unicolor   & rounded  \\\\\n",
       "\t unicolor   & rounded  \\\\\n",
       "\t unicolor   & rounded  \\\\\n",
       "\t ⋮ & ⋮\\\\\n",
       "\t unicolor   & rounded  \\\\\n",
       "\t multicolor & unrounded\\\\\n",
       "\t multicolor & unrounded\\\\\n",
       "\t unicolor   & unrounded\\\\\n",
       "\t unicolor   & unrounded\\\\\n",
       "\t multicolor & rounded  \\\\\n",
       "\t unicolor   & rounded  \\\\\n",
       "\t unicolor   & unrounded\\\\\n",
       "\t multicolor & rounded  \\\\\n",
       "\t unicolor   & rounded  \\\\\n",
       "\\end{tabular}\n"
      ],
      "text/markdown": [
       "\n",
       "A tibble: 210 × 2\n",
       "\n",
       "| PetalColor &lt;chr&gt; | PetalShape &lt;chr&gt; |\n",
       "|---|---|\n",
       "| multicolor | rounded   |\n",
       "| unicolor   | rounded   |\n",
       "| unicolor   | unrounded |\n",
       "| multicolor | rounded   |\n",
       "| multicolor | rounded   |\n",
       "| unicolor   | rounded   |\n",
       "| unicolor   | rounded   |\n",
       "| unicolor   | rounded   |\n",
       "| unicolor   | rounded   |\n",
       "| unicolor   | rounded   |\n",
       "| ⋮ | ⋮ |\n",
       "| unicolor   | rounded   |\n",
       "| multicolor | unrounded |\n",
       "| multicolor | unrounded |\n",
       "| unicolor   | unrounded |\n",
       "| unicolor   | unrounded |\n",
       "| multicolor | rounded   |\n",
       "| unicolor   | rounded   |\n",
       "| unicolor   | unrounded |\n",
       "| multicolor | rounded   |\n",
       "| unicolor   | rounded   |\n",
       "\n"
      ],
      "text/plain": [
       "    PetalColor PetalShape\n",
       "1   multicolor rounded   \n",
       "2   unicolor   rounded   \n",
       "3   unicolor   unrounded \n",
       "4   multicolor rounded   \n",
       "5   multicolor rounded   \n",
       "6   unicolor   rounded   \n",
       "7   unicolor   rounded   \n",
       "8   unicolor   rounded   \n",
       "9   unicolor   rounded   \n",
       "10  unicolor   rounded   \n",
       "⋮   ⋮          ⋮         \n",
       "201 unicolor   rounded   \n",
       "202 multicolor unrounded \n",
       "203 multicolor unrounded \n",
       "204 unicolor   unrounded \n",
       "205 unicolor   unrounded \n",
       "206 multicolor rounded   \n",
       "207 unicolor   rounded   \n",
       "208 unicolor   unrounded \n",
       "209 multicolor rounded   \n",
       "210 unicolor   rounded   "
      ]
     },
     "metadata": {},
     "output_type": "display_data"
    }
   ],
   "source": [
    "dplyr::select(dataframe,PetalColor:PetalShape)\n",
    "\n",
    "#<xml xmlns=\"https://developers.google.com/blockly/xml\"><variables><variable id=\"LiPrc==C!jd{;fWA-(}6\">dplyr</variable><variable id=\"t[n^Fcp7,s93E17ZZ9J6\">dataframe</variable></variables><block type=\"varDoMethod_R\" id=\"eGwb`#8yU[:`w{muZddM\" x=\"8\" y=\"176\"><mutation items=\"2\"></mutation><field name=\"VAR\" id=\"LiPrc==C!jd{;fWA-(}6\">dplyr</field><field name=\"MEMBER\">select</field><data>dplyr:select</data><value name=\"ADD0\"><block type=\"variables_get\" id=\"k(}Ej}(Zx@:mO9D!9z~#\"><field name=\"VAR\" id=\"t[n^Fcp7,s93E17ZZ9J6\">dataframe</field></block></value><value name=\"ADD1\"><block type=\"dummyOutputCodeBlock_R\" id=\"BOQ$uM/td%JJik~_Lc(X\"><field name=\"CODE\">PetalColor:PetalShape</field></block></value></block></xml>"
   ]
  },
  {
   "cell_type": "markdown",
   "metadata": {},
   "source": [
    "Select the last two columns of the data:"
   ]
  },
  {
   "cell_type": "markdown",
   "metadata": {},
   "source": [
    "- with `dplyr` do `select` using `dataframe` and `PetalShape:Size` "
   ]
  },
  {
   "cell_type": "code",
   "execution_count": 9,
   "metadata": {},
   "outputs": [
    {
     "data": {
      "text/html": [
       "<table class=\"dataframe\">\n",
       "<caption>A tibble: 210 × 2</caption>\n",
       "<thead>\n",
       "\t<tr><th scope=col>PetalShape</th><th scope=col>Size</th></tr>\n",
       "\t<tr><th scope=col>&lt;chr&gt;</th><th scope=col>&lt;chr&gt;</th></tr>\n",
       "</thead>\n",
       "<tbody>\n",
       "\t<tr><td>rounded  </td><td>medium</td></tr>\n",
       "\t<tr><td>rounded  </td><td>medium</td></tr>\n",
       "\t<tr><td>unrounded</td><td>large </td></tr>\n",
       "\t<tr><td>rounded  </td><td>medium</td></tr>\n",
       "\t<tr><td>rounded  </td><td>small </td></tr>\n",
       "\t<tr><td>rounded  </td><td>small </td></tr>\n",
       "\t<tr><td>rounded  </td><td>medium</td></tr>\n",
       "\t<tr><td>rounded  </td><td>medium</td></tr>\n",
       "\t<tr><td>rounded  </td><td>small </td></tr>\n",
       "\t<tr><td>rounded  </td><td>small </td></tr>\n",
       "\t<tr><td>⋮</td><td>⋮</td></tr>\n",
       "\t<tr><td>rounded  </td><td>medium</td></tr>\n",
       "\t<tr><td>unrounded</td><td>large </td></tr>\n",
       "\t<tr><td>unrounded</td><td>large </td></tr>\n",
       "\t<tr><td>unrounded</td><td>small </td></tr>\n",
       "\t<tr><td>unrounded</td><td>medium</td></tr>\n",
       "\t<tr><td>rounded  </td><td>large </td></tr>\n",
       "\t<tr><td>rounded  </td><td>large </td></tr>\n",
       "\t<tr><td>unrounded</td><td>large </td></tr>\n",
       "\t<tr><td>rounded  </td><td>medium</td></tr>\n",
       "\t<tr><td>rounded  </td><td>small </td></tr>\n",
       "</tbody>\n",
       "</table>\n"
      ],
      "text/latex": [
       "A tibble: 210 × 2\n",
       "\\begin{tabular}{ll}\n",
       " PetalShape & Size\\\\\n",
       " <chr> & <chr>\\\\\n",
       "\\hline\n",
       "\t rounded   & medium\\\\\n",
       "\t rounded   & medium\\\\\n",
       "\t unrounded & large \\\\\n",
       "\t rounded   & medium\\\\\n",
       "\t rounded   & small \\\\\n",
       "\t rounded   & small \\\\\n",
       "\t rounded   & medium\\\\\n",
       "\t rounded   & medium\\\\\n",
       "\t rounded   & small \\\\\n",
       "\t rounded   & small \\\\\n",
       "\t ⋮ & ⋮\\\\\n",
       "\t rounded   & medium\\\\\n",
       "\t unrounded & large \\\\\n",
       "\t unrounded & large \\\\\n",
       "\t unrounded & small \\\\\n",
       "\t unrounded & medium\\\\\n",
       "\t rounded   & large \\\\\n",
       "\t rounded   & large \\\\\n",
       "\t unrounded & large \\\\\n",
       "\t rounded   & medium\\\\\n",
       "\t rounded   & small \\\\\n",
       "\\end{tabular}\n"
      ],
      "text/markdown": [
       "\n",
       "A tibble: 210 × 2\n",
       "\n",
       "| PetalShape &lt;chr&gt; | Size &lt;chr&gt; |\n",
       "|---|---|\n",
       "| rounded   | medium |\n",
       "| rounded   | medium |\n",
       "| unrounded | large  |\n",
       "| rounded   | medium |\n",
       "| rounded   | small  |\n",
       "| rounded   | small  |\n",
       "| rounded   | medium |\n",
       "| rounded   | medium |\n",
       "| rounded   | small  |\n",
       "| rounded   | small  |\n",
       "| ⋮ | ⋮ |\n",
       "| rounded   | medium |\n",
       "| unrounded | large  |\n",
       "| unrounded | large  |\n",
       "| unrounded | small  |\n",
       "| unrounded | medium |\n",
       "| rounded   | large  |\n",
       "| rounded   | large  |\n",
       "| unrounded | large  |\n",
       "| rounded   | medium |\n",
       "| rounded   | small  |\n",
       "\n"
      ],
      "text/plain": [
       "    PetalShape Size  \n",
       "1   rounded    medium\n",
       "2   rounded    medium\n",
       "3   unrounded  large \n",
       "4   rounded    medium\n",
       "5   rounded    small \n",
       "6   rounded    small \n",
       "7   rounded    medium\n",
       "8   rounded    medium\n",
       "9   rounded    small \n",
       "10  rounded    small \n",
       "⋮   ⋮          ⋮     \n",
       "201 rounded    medium\n",
       "202 unrounded  large \n",
       "203 unrounded  large \n",
       "204 unrounded  small \n",
       "205 unrounded  medium\n",
       "206 rounded    large \n",
       "207 rounded    large \n",
       "208 unrounded  large \n",
       "209 rounded    medium\n",
       "210 rounded    small "
      ]
     },
     "metadata": {},
     "output_type": "display_data"
    }
   ],
   "source": [
    "dplyr::select(dataframe,PetalShape:Size)\n",
    "\n",
    "#<xml xmlns=\"https://developers.google.com/blockly/xml\"><variables><variable id=\"LiPrc==C!jd{;fWA-(}6\">dplyr</variable><variable id=\"t[n^Fcp7,s93E17ZZ9J6\">dataframe</variable></variables><block type=\"varDoMethod_R\" id=\"eGwb`#8yU[:`w{muZddM\" x=\"8\" y=\"176\"><mutation items=\"2\"></mutation><field name=\"VAR\" id=\"LiPrc==C!jd{;fWA-(}6\">dplyr</field><field name=\"MEMBER\">select</field><data>dplyr:select</data><value name=\"ADD0\"><block type=\"variables_get\" id=\"k(}Ej}(Zx@:mO9D!9z~#\"><field name=\"VAR\" id=\"t[n^Fcp7,s93E17ZZ9J6\">dataframe</field></block></value><value name=\"ADD1\"><block type=\"dummyOutputCodeBlock_R\" id=\"BOQ$uM/td%JJik~_Lc(X\"><field name=\"CODE\">PetalShape:Size</field></block></value></block></xml>"
   ]
  },
  {
   "cell_type": "markdown",
   "metadata": {},
   "source": [
    "Select the middle column of the data:"
   ]
  },
  {
   "cell_type": "markdown",
   "metadata": {},
   "source": [
    "- with `dplyr` do `select` using `dataframe` and `PetalShape` "
   ]
  },
  {
   "cell_type": "code",
   "execution_count": 11,
   "metadata": {},
   "outputs": [
    {
     "data": {
      "text/html": [
       "<table class=\"dataframe\">\n",
       "<caption>A tibble: 210 × 1</caption>\n",
       "<thead>\n",
       "\t<tr><th scope=col>PetalShape</th></tr>\n",
       "\t<tr><th scope=col>&lt;chr&gt;</th></tr>\n",
       "</thead>\n",
       "<tbody>\n",
       "\t<tr><td>rounded  </td></tr>\n",
       "\t<tr><td>rounded  </td></tr>\n",
       "\t<tr><td>unrounded</td></tr>\n",
       "\t<tr><td>rounded  </td></tr>\n",
       "\t<tr><td>rounded  </td></tr>\n",
       "\t<tr><td>rounded  </td></tr>\n",
       "\t<tr><td>rounded  </td></tr>\n",
       "\t<tr><td>rounded  </td></tr>\n",
       "\t<tr><td>rounded  </td></tr>\n",
       "\t<tr><td>rounded  </td></tr>\n",
       "\t<tr><td>⋮</td></tr>\n",
       "\t<tr><td>rounded  </td></tr>\n",
       "\t<tr><td>unrounded</td></tr>\n",
       "\t<tr><td>unrounded</td></tr>\n",
       "\t<tr><td>unrounded</td></tr>\n",
       "\t<tr><td>unrounded</td></tr>\n",
       "\t<tr><td>rounded  </td></tr>\n",
       "\t<tr><td>rounded  </td></tr>\n",
       "\t<tr><td>unrounded</td></tr>\n",
       "\t<tr><td>rounded  </td></tr>\n",
       "\t<tr><td>rounded  </td></tr>\n",
       "</tbody>\n",
       "</table>\n"
      ],
      "text/latex": [
       "A tibble: 210 × 1\n",
       "\\begin{tabular}{l}\n",
       " PetalShape\\\\\n",
       " <chr>\\\\\n",
       "\\hline\n",
       "\t rounded  \\\\\n",
       "\t rounded  \\\\\n",
       "\t unrounded\\\\\n",
       "\t rounded  \\\\\n",
       "\t rounded  \\\\\n",
       "\t rounded  \\\\\n",
       "\t rounded  \\\\\n",
       "\t rounded  \\\\\n",
       "\t rounded  \\\\\n",
       "\t rounded  \\\\\n",
       "\t ⋮\\\\\n",
       "\t rounded  \\\\\n",
       "\t unrounded\\\\\n",
       "\t unrounded\\\\\n",
       "\t unrounded\\\\\n",
       "\t unrounded\\\\\n",
       "\t rounded  \\\\\n",
       "\t rounded  \\\\\n",
       "\t unrounded\\\\\n",
       "\t rounded  \\\\\n",
       "\t rounded  \\\\\n",
       "\\end{tabular}\n"
      ],
      "text/markdown": [
       "\n",
       "A tibble: 210 × 1\n",
       "\n",
       "| PetalShape &lt;chr&gt; |\n",
       "|---|\n",
       "| rounded   |\n",
       "| rounded   |\n",
       "| unrounded |\n",
       "| rounded   |\n",
       "| rounded   |\n",
       "| rounded   |\n",
       "| rounded   |\n",
       "| rounded   |\n",
       "| rounded   |\n",
       "| rounded   |\n",
       "| ⋮ |\n",
       "| rounded   |\n",
       "| unrounded |\n",
       "| unrounded |\n",
       "| unrounded |\n",
       "| unrounded |\n",
       "| rounded   |\n",
       "| rounded   |\n",
       "| unrounded |\n",
       "| rounded   |\n",
       "| rounded   |\n",
       "\n"
      ],
      "text/plain": [
       "    PetalShape\n",
       "1   rounded   \n",
       "2   rounded   \n",
       "3   unrounded \n",
       "4   rounded   \n",
       "5   rounded   \n",
       "6   rounded   \n",
       "7   rounded   \n",
       "8   rounded   \n",
       "9   rounded   \n",
       "10  rounded   \n",
       "⋮   ⋮         \n",
       "201 rounded   \n",
       "202 unrounded \n",
       "203 unrounded \n",
       "204 unrounded \n",
       "205 unrounded \n",
       "206 rounded   \n",
       "207 rounded   \n",
       "208 unrounded \n",
       "209 rounded   \n",
       "210 rounded   "
      ]
     },
     "metadata": {},
     "output_type": "display_data"
    }
   ],
   "source": [
    "dplyr::select(dataframe,PetalShape)\n",
    "\n",
    "#<xml xmlns=\"https://developers.google.com/blockly/xml\"><variables><variable id=\"LiPrc==C!jd{;fWA-(}6\">dplyr</variable><variable id=\"t[n^Fcp7,s93E17ZZ9J6\">dataframe</variable></variables><block type=\"varDoMethod_R\" id=\"eGwb`#8yU[:`w{muZddM\" x=\"8\" y=\"176\"><mutation items=\"2\"></mutation><field name=\"VAR\" id=\"LiPrc==C!jd{;fWA-(}6\">dplyr</field><field name=\"MEMBER\">select</field><data>dplyr:select</data><value name=\"ADD0\"><block type=\"variables_get\" id=\"k(}Ej}(Zx@:mO9D!9z~#\"><field name=\"VAR\" id=\"t[n^Fcp7,s93E17ZZ9J6\">dataframe</field></block></value><value name=\"ADD1\"><block type=\"dummyOutputCodeBlock_R\" id=\"BOQ$uM/td%JJik~_Lc(X\"><field name=\"CODE\">PetalShape</field></block></value></block></xml>"
   ]
  },
  {
   "cell_type": "markdown",
   "metadata": {},
   "source": [
    "Get the data types\n",
    "\n",
    "- with `readr` do `spec` using `dataframe`"
   ]
  },
  {
   "cell_type": "code",
   "execution_count": 12,
   "metadata": {},
   "outputs": [
    {
     "data": {
      "text/plain": [
       "cols(\n",
       "  File = \u001b[31mcol_character()\u001b[39m,\n",
       "  PetalColor = \u001b[31mcol_character()\u001b[39m,\n",
       "  PetalShape = \u001b[31mcol_character()\u001b[39m,\n",
       "  Size = \u001b[31mcol_character()\u001b[39m\n",
       ")"
      ]
     },
     "metadata": {},
     "output_type": "display_data"
    }
   ],
   "source": [
    "readr::spec(dataframe)\n",
    "\n",
    "#<xml xmlns=\"https://developers.google.com/blockly/xml\"><variables><variable id=\"(cA1)X2lCPQio$W{:j4y\">readr</variable><variable id=\"t[n^Fcp7,s93E17ZZ9J6\">dataframe</variable></variables><block type=\"varDoMethod_R\" id=\"NBbE2M,V(Js`SQt{!7A6\" x=\"-77\" y=\"164\"><mutation items=\"1\"></mutation><field name=\"VAR\" id=\"(cA1)X2lCPQio$W{:j4y\">readr</field><field name=\"MEMBER\">spec</field><data>readr:spec</data><value name=\"ADD0\"><block type=\"variables_get\" id=\"{sNlqY/W($*30Q^l00O@\"><field name=\"VAR\" id=\"t[n^Fcp7,s93E17ZZ9J6\">dataframe</field></block></value></block></xml>"
   ]
  },
  {
   "cell_type": "markdown",
   "metadata": {},
   "source": [
    "**QUESTION:**\n",
    "\n",
    "What do the data types tell you about the variable types?\n",
    "\n",
    "**ANSWER: (click here to edit)**\n",
    "\n",
    "It shows as `character`, so it is ambiguous between nominal and ordinal"
   ]
  },
  {
   "cell_type": "markdown",
   "metadata": {},
   "source": [
    "**QUESTION:**\n",
    "\n",
    "Suppose the students who coded this data made mistakes with Size, so some `small` were coded as `medium` and some `medium` as `large`. \n",
    "Would that affect reliability, validity, or both?\n",
    "\n",
    "**ANSWER: (click here to edit)**\n",
    "\n",
    "It would only affect reliability, because `size` would still be measured, it just wouldn't be as accurate.\n"
   ]
  },
  {
   "cell_type": "markdown",
   "metadata": {},
   "source": [
    "**QUESTION:**\n",
    "\n",
    "Suppose someone made a mistake preparing the data and typed a row like this:\n",
    "\n",
    "`0100.png,,unicolor,rounded,medium`\n",
    "\n",
    "What do you think would happen?\n",
    "\n",
    "**ANSWER: (click here to edit)**\n",
    "\n",
    "This would shift color, shape and size columns to the right. \n",
    "Hopefully `readr` would throw an error to let us know this happened.\n"
   ]
  },
  {
   "cell_type": "markdown",
   "metadata": {},
   "source": [
    "<!--  -->"
   ]
  }
 ],
 "metadata": {
  "kernelspec": {
   "display_name": "R",
   "language": "R",
   "name": "ir"
  },
  "language_info": {
   "codemirror_mode": "r",
   "file_extension": ".r",
   "mimetype": "text/x-r-source",
   "name": "R",
   "pygments_lexer": "r",
   "version": "4.2.1"
  }
 },
 "nbformat": 4,
 "nbformat_minor": 4
}
