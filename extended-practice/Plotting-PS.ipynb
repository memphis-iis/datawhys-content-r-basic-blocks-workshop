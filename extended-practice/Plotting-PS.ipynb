{
 "cells": [
  {
   "cell_type": "markdown",
   "metadata": {
    "deletable": false,
    "editable": false
   },
   "source": [
    "Copyright 2022 Andrew M. Olney and made available under [CC BY-SA](https://creativecommons.org/licenses/by-sa/4.0) for text and [Apache-2.0](http://www.apache.org/licenses/LICENSE-2.0) for code.\n"
   ]
  },
  {
   "cell_type": "markdown",
   "metadata": {},
   "source": [
    "# Plotting: Problem solving\n",
    "\n",
    "In this notebook we'll look at the `cereal` dataset, which consists mostly of nutrition information along with some other properties:\n",
    "\n",
    "| Variable | Type | Description |\n",
    "|:-------|:-------|:-------|\n",
    "| name     | Nominal | Name of cereal (an ID)                                                                                                                          |\n",
    "| mfr      | Nominal | Manufacturer of cereal: (A)merican Home Food Products; (G)eneral Mills; (K)elloggs; (N)abisco; (P)ost; (Q)uaker Oats; (R)alston Purina |\n",
    "| type     | Nominal | (H)ot or (C)old                                                                                                                        |\n",
    "| calories | Ratio   | calories per serving                                                                                                                   |\n",
    "| protein  | Ratio   | grams of protein                                                                                                                       |\n",
    "| fat      | Ratio   | grams of fat                                                                                                                           |\n",
    "| sodium   | Ratio   | milligrams of sodium                                                                                                                   |\n",
    "| fiber    | Ratio   | grams of dietary fiber                                                                                                                 |\n",
    "| carbo    | Ratio   | grams of complex carbohydrates                                                                                                         |\n",
    "| sugars   | Ratio   | grams of sugars                                                                                                                        |\n",
    "| potass   | Ratio   | milligrams of potassium                                                                                                                |\n",
    "| vitamins | Ordinal | vitamins and minerals - 0, 25, or 100, indicating the typical percentage of FDA recommended                                            |\n",
    "| shelf    | Ratio   | display shelf (1, 2, or 3, counting from the floor)                                                                                    |\n",
    "| weight   | Ratio   | weight in ounces of one serving                                                                                                        |\n",
    "| cups     | Ratio   | number of cups in one serving                                                                                                          |\n",
    "| rating   | Ratio   | a rating of the cereals (Possibly from Consumer Reports?)                                                                              |\n",
    "      \n",
    "<div style=\"text-align:center;font-size: smaller\">\n",
    "    <b>Source:</b> This dataset was taken from <a href=\"https://www.kaggle.com/crawford/80-cereals\">Kaggle</a>.\n",
    "</div>\n",
    "<br>"
   ]
  },
  {
   "cell_type": "markdown",
   "metadata": {},
   "source": [
    "## Import libraries\n",
    "\n",
    "We need to load our data into a dataframe and do some plots, so import `readr`, `ggplot2`, `dplyr`, and `tidyr` below."
   ]
  },
  {
   "cell_type": "code",
   "execution_count": 16,
   "metadata": {},
   "outputs": [],
   "source": [
    "library(readr)\n",
    "library(ggplot2)\n",
    "library(dplyr)\n",
    "library(tidyr)\n",
    "\n",
    "#<xml xmlns=\"https://developers.google.com/blockly/xml\"><variables><variable id=\"u8fL^76ay#32Pa-V4ka5\">readr</variable><variable id=\"K2WB)HAgulDnN4.esuaK\">ggplot2</variable><variable id=\"EgykJ$xGwtJi8=dmq*,X\">dplyr</variable><variable id=\"XxDURHz6QPK@1*~gXTIg\">tidyr</variable></variables><block type=\"import_R\" id=\"CEsxMkwFcDgJQt+Q!$O(\" x=\"40\" y=\"24\"><field name=\"libraryName\" id=\"u8fL^76ay#32Pa-V4ka5\">readr</field><next><block type=\"import_R\" id=\"?x[5|Krx?4942J@ufv@R\"><field name=\"libraryName\" id=\"K2WB)HAgulDnN4.esuaK\">ggplot2</field><next><block type=\"import_R\" id=\"ZcxuRjmdl1K_,#0r!!tC\"><field name=\"libraryName\" id=\"EgykJ$xGwtJi8=dmq*,X\">dplyr</field><next><block type=\"import_R\" id=\"9):v3HZ@{$pH`0_p-]F^\"><field name=\"libraryName\" id=\"XxDURHz6QPK@1*~gXTIg\">tidyr</field></block></next></block></next></block></next></block></xml>"
   ]
  },
  {
   "cell_type": "markdown",
   "metadata": {},
   "source": [
    "## Load data"
   ]
  },
  {
   "cell_type": "markdown",
   "metadata": {},
   "source": [
    "Load `\"datasets/cereal.csv\"` into a dataframe and display the dataframe."
   ]
  },
  {
   "cell_type": "code",
   "execution_count": 19,
   "metadata": {},
   "outputs": [
    {
     "name": "stderr",
     "output_type": "stream",
     "text": [
      "\u001b[1mRows: \u001b[22m\u001b[34m77\u001b[39m \u001b[1mColumns: \u001b[22m\u001b[34m16\u001b[39m\n",
      "\u001b[36m──\u001b[39m \u001b[1mColumn specification\u001b[22m \u001b[36m────────────────────────────────────────────────────────\u001b[39m\n",
      "\u001b[1mDelimiter:\u001b[22m \",\"\n",
      "\u001b[31mchr\u001b[39m  (3): name, mfr, c_type\n",
      "\u001b[32mdbl\u001b[39m (13): calories, protein, fat, sodium, fiber, carbo, sugars, potass, vita...\n",
      "\n",
      "\u001b[36mℹ\u001b[39m Use `spec()` to retrieve the full column specification for this data.\n",
      "\u001b[36mℹ\u001b[39m Specify the column types or set `show_col_types = FALSE` to quiet this message.\n"
     ]
    },
    {
     "data": {
      "text/html": [
       "<table class=\"dataframe\">\n",
       "<caption>A spec_tbl_df: 77 × 16</caption>\n",
       "<thead>\n",
       "\t<tr><th scope=col>name</th><th scope=col>mfr</th><th scope=col>c_type</th><th scope=col>calories</th><th scope=col>protein</th><th scope=col>fat</th><th scope=col>sodium</th><th scope=col>fiber</th><th scope=col>carbo</th><th scope=col>sugars</th><th scope=col>potass</th><th scope=col>vitamins</th><th scope=col>shelf</th><th scope=col>weight</th><th scope=col>cups</th><th scope=col>rating</th></tr>\n",
       "\t<tr><th scope=col>&lt;chr&gt;</th><th scope=col>&lt;chr&gt;</th><th scope=col>&lt;chr&gt;</th><th scope=col>&lt;dbl&gt;</th><th scope=col>&lt;dbl&gt;</th><th scope=col>&lt;dbl&gt;</th><th scope=col>&lt;dbl&gt;</th><th scope=col>&lt;dbl&gt;</th><th scope=col>&lt;dbl&gt;</th><th scope=col>&lt;dbl&gt;</th><th scope=col>&lt;dbl&gt;</th><th scope=col>&lt;dbl&gt;</th><th scope=col>&lt;dbl&gt;</th><th scope=col>&lt;dbl&gt;</th><th scope=col>&lt;dbl&gt;</th><th scope=col>&lt;dbl&gt;</th></tr>\n",
       "</thead>\n",
       "<tbody>\n",
       "\t<tr><td>100% Bran                </td><td>N</td><td>C</td><td> 70</td><td>4</td><td>1</td><td>130</td><td>10.0</td><td> 5.0</td><td> 6</td><td>280</td><td>25</td><td>3</td><td>1.00</td><td>0.33</td><td>68.40297</td></tr>\n",
       "\t<tr><td>100% Natural Bran        </td><td>Q</td><td>C</td><td>120</td><td>3</td><td>5</td><td> 15</td><td> 2.0</td><td> 8.0</td><td> 8</td><td>135</td><td> 0</td><td>3</td><td>1.00</td><td>1.00</td><td>33.98368</td></tr>\n",
       "\t<tr><td>All-Bran                 </td><td>K</td><td>C</td><td> 70</td><td>4</td><td>1</td><td>260</td><td> 9.0</td><td> 7.0</td><td> 5</td><td>320</td><td>25</td><td>3</td><td>1.00</td><td>0.33</td><td>59.42551</td></tr>\n",
       "\t<tr><td>All-Bran with Extra Fiber</td><td>K</td><td>C</td><td> 50</td><td>4</td><td>0</td><td>140</td><td>14.0</td><td> 8.0</td><td> 0</td><td>330</td><td>25</td><td>3</td><td>1.00</td><td>0.50</td><td>93.70491</td></tr>\n",
       "\t<tr><td>Almond Delight           </td><td>R</td><td>C</td><td>110</td><td>2</td><td>2</td><td>200</td><td> 1.0</td><td>14.0</td><td> 8</td><td>NaN</td><td>25</td><td>3</td><td>1.00</td><td>0.75</td><td>34.38484</td></tr>\n",
       "\t<tr><td>Apple Cinnamon Cheerios  </td><td>G</td><td>C</td><td>110</td><td>2</td><td>2</td><td>180</td><td> 1.5</td><td>10.5</td><td>10</td><td> 70</td><td>25</td><td>1</td><td>1.00</td><td>0.75</td><td>29.50954</td></tr>\n",
       "\t<tr><td>Apple Jacks              </td><td>K</td><td>C</td><td>110</td><td>2</td><td>0</td><td>125</td><td> 1.0</td><td>11.0</td><td>14</td><td> 30</td><td>25</td><td>2</td><td>1.00</td><td>1.00</td><td>33.17409</td></tr>\n",
       "\t<tr><td>Basic 4                  </td><td>G</td><td>C</td><td>130</td><td>3</td><td>2</td><td>210</td><td> 2.0</td><td>18.0</td><td> 8</td><td>100</td><td>25</td><td>3</td><td>1.33</td><td>0.75</td><td>37.03856</td></tr>\n",
       "\t<tr><td>Bran Chex                </td><td>R</td><td>C</td><td> 90</td><td>2</td><td>1</td><td>200</td><td> 4.0</td><td>15.0</td><td> 6</td><td>125</td><td>25</td><td>1</td><td>1.00</td><td>0.67</td><td>49.12025</td></tr>\n",
       "\t<tr><td>Bran Flakes              </td><td>P</td><td>C</td><td> 90</td><td>3</td><td>0</td><td>210</td><td> 5.0</td><td>13.0</td><td> 5</td><td>190</td><td>25</td><td>3</td><td>1.00</td><td>0.67</td><td>53.31381</td></tr>\n",
       "\t<tr><td>⋮</td><td>⋮</td><td>⋮</td><td>⋮</td><td>⋮</td><td>⋮</td><td>⋮</td><td>⋮</td><td>⋮</td><td>⋮</td><td>⋮</td><td>⋮</td><td>⋮</td><td>⋮</td><td>⋮</td><td>⋮</td></tr>\n",
       "\t<tr><td>Special K              </td><td>K</td><td>C</td><td>110</td><td>6</td><td>0</td><td>230</td><td>1</td><td>16</td><td> 3</td><td> 55</td><td> 25</td><td>1</td><td>1.0</td><td>1.00</td><td>53.13132</td></tr>\n",
       "\t<tr><td>Strawberry Fruit Wheats</td><td>N</td><td>C</td><td> 90</td><td>2</td><td>0</td><td> 15</td><td>3</td><td>15</td><td> 5</td><td> 90</td><td> 25</td><td>2</td><td>1.0</td><td>1.00</td><td>59.36399</td></tr>\n",
       "\t<tr><td>Total Corn Flakes      </td><td>G</td><td>C</td><td>110</td><td>2</td><td>1</td><td>200</td><td>0</td><td>21</td><td> 3</td><td> 35</td><td>100</td><td>3</td><td>1.0</td><td>1.00</td><td>38.83975</td></tr>\n",
       "\t<tr><td>Total Raisin Bran      </td><td>G</td><td>C</td><td>140</td><td>3</td><td>1</td><td>190</td><td>4</td><td>15</td><td>14</td><td>230</td><td>100</td><td>3</td><td>1.5</td><td>1.00</td><td>28.59278</td></tr>\n",
       "\t<tr><td>Total Whole Grain      </td><td>G</td><td>C</td><td>100</td><td>3</td><td>1</td><td>200</td><td>3</td><td>16</td><td> 3</td><td>110</td><td>100</td><td>3</td><td>1.0</td><td>1.00</td><td>46.65884</td></tr>\n",
       "\t<tr><td>Triples                </td><td>G</td><td>C</td><td>110</td><td>2</td><td>1</td><td>250</td><td>0</td><td>21</td><td> 3</td><td> 60</td><td> 25</td><td>3</td><td>1.0</td><td>0.75</td><td>39.10617</td></tr>\n",
       "\t<tr><td>Trix                   </td><td>G</td><td>C</td><td>110</td><td>1</td><td>1</td><td>140</td><td>0</td><td>13</td><td>12</td><td> 25</td><td> 25</td><td>2</td><td>1.0</td><td>1.00</td><td>27.75330</td></tr>\n",
       "\t<tr><td>Wheat Chex             </td><td>R</td><td>C</td><td>100</td><td>3</td><td>1</td><td>230</td><td>3</td><td>17</td><td> 3</td><td>115</td><td> 25</td><td>1</td><td>1.0</td><td>0.67</td><td>49.78744</td></tr>\n",
       "\t<tr><td>Wheaties               </td><td>G</td><td>C</td><td>100</td><td>3</td><td>1</td><td>200</td><td>3</td><td>17</td><td> 3</td><td>110</td><td> 25</td><td>1</td><td>1.0</td><td>1.00</td><td>51.59219</td></tr>\n",
       "\t<tr><td>Wheaties Honey Gold    </td><td>G</td><td>C</td><td>110</td><td>2</td><td>1</td><td>200</td><td>1</td><td>16</td><td> 8</td><td> 60</td><td> 25</td><td>1</td><td>1.0</td><td>0.75</td><td>36.18756</td></tr>\n",
       "</tbody>\n",
       "</table>\n"
      ],
      "text/latex": [
       "A spec\\_tbl\\_df: 77 × 16\n",
       "\\begin{tabular}{llllllllllllllll}\n",
       " name & mfr & c\\_type & calories & protein & fat & sodium & fiber & carbo & sugars & potass & vitamins & shelf & weight & cups & rating\\\\\n",
       " <chr> & <chr> & <chr> & <dbl> & <dbl> & <dbl> & <dbl> & <dbl> & <dbl> & <dbl> & <dbl> & <dbl> & <dbl> & <dbl> & <dbl> & <dbl>\\\\\n",
       "\\hline\n",
       "\t 100\\% Bran                 & N & C &  70 & 4 & 1 & 130 & 10.0 &  5.0 &  6 & 280 & 25 & 3 & 1.00 & 0.33 & 68.40297\\\\\n",
       "\t 100\\% Natural Bran         & Q & C & 120 & 3 & 5 &  15 &  2.0 &  8.0 &  8 & 135 &  0 & 3 & 1.00 & 1.00 & 33.98368\\\\\n",
       "\t All-Bran                  & K & C &  70 & 4 & 1 & 260 &  9.0 &  7.0 &  5 & 320 & 25 & 3 & 1.00 & 0.33 & 59.42551\\\\\n",
       "\t All-Bran with Extra Fiber & K & C &  50 & 4 & 0 & 140 & 14.0 &  8.0 &  0 & 330 & 25 & 3 & 1.00 & 0.50 & 93.70491\\\\\n",
       "\t Almond Delight            & R & C & 110 & 2 & 2 & 200 &  1.0 & 14.0 &  8 & NaN & 25 & 3 & 1.00 & 0.75 & 34.38484\\\\\n",
       "\t Apple Cinnamon Cheerios   & G & C & 110 & 2 & 2 & 180 &  1.5 & 10.5 & 10 &  70 & 25 & 1 & 1.00 & 0.75 & 29.50954\\\\\n",
       "\t Apple Jacks               & K & C & 110 & 2 & 0 & 125 &  1.0 & 11.0 & 14 &  30 & 25 & 2 & 1.00 & 1.00 & 33.17409\\\\\n",
       "\t Basic 4                   & G & C & 130 & 3 & 2 & 210 &  2.0 & 18.0 &  8 & 100 & 25 & 3 & 1.33 & 0.75 & 37.03856\\\\\n",
       "\t Bran Chex                 & R & C &  90 & 2 & 1 & 200 &  4.0 & 15.0 &  6 & 125 & 25 & 1 & 1.00 & 0.67 & 49.12025\\\\\n",
       "\t Bran Flakes               & P & C &  90 & 3 & 0 & 210 &  5.0 & 13.0 &  5 & 190 & 25 & 3 & 1.00 & 0.67 & 53.31381\\\\\n",
       "\t ⋮ & ⋮ & ⋮ & ⋮ & ⋮ & ⋮ & ⋮ & ⋮ & ⋮ & ⋮ & ⋮ & ⋮ & ⋮ & ⋮ & ⋮ & ⋮\\\\\n",
       "\t Special K               & K & C & 110 & 6 & 0 & 230 & 1 & 16 &  3 &  55 &  25 & 1 & 1.0 & 1.00 & 53.13132\\\\\n",
       "\t Strawberry Fruit Wheats & N & C &  90 & 2 & 0 &  15 & 3 & 15 &  5 &  90 &  25 & 2 & 1.0 & 1.00 & 59.36399\\\\\n",
       "\t Total Corn Flakes       & G & C & 110 & 2 & 1 & 200 & 0 & 21 &  3 &  35 & 100 & 3 & 1.0 & 1.00 & 38.83975\\\\\n",
       "\t Total Raisin Bran       & G & C & 140 & 3 & 1 & 190 & 4 & 15 & 14 & 230 & 100 & 3 & 1.5 & 1.00 & 28.59278\\\\\n",
       "\t Total Whole Grain       & G & C & 100 & 3 & 1 & 200 & 3 & 16 &  3 & 110 & 100 & 3 & 1.0 & 1.00 & 46.65884\\\\\n",
       "\t Triples                 & G & C & 110 & 2 & 1 & 250 & 0 & 21 &  3 &  60 &  25 & 3 & 1.0 & 0.75 & 39.10617\\\\\n",
       "\t Trix                    & G & C & 110 & 1 & 1 & 140 & 0 & 13 & 12 &  25 &  25 & 2 & 1.0 & 1.00 & 27.75330\\\\\n",
       "\t Wheat Chex              & R & C & 100 & 3 & 1 & 230 & 3 & 17 &  3 & 115 &  25 & 1 & 1.0 & 0.67 & 49.78744\\\\\n",
       "\t Wheaties                & G & C & 100 & 3 & 1 & 200 & 3 & 17 &  3 & 110 &  25 & 1 & 1.0 & 1.00 & 51.59219\\\\\n",
       "\t Wheaties Honey Gold     & G & C & 110 & 2 & 1 & 200 & 1 & 16 &  8 &  60 &  25 & 1 & 1.0 & 0.75 & 36.18756\\\\\n",
       "\\end{tabular}\n"
      ],
      "text/markdown": [
       "\n",
       "A spec_tbl_df: 77 × 16\n",
       "\n",
       "| name &lt;chr&gt; | mfr &lt;chr&gt; | c_type &lt;chr&gt; | calories &lt;dbl&gt; | protein &lt;dbl&gt; | fat &lt;dbl&gt; | sodium &lt;dbl&gt; | fiber &lt;dbl&gt; | carbo &lt;dbl&gt; | sugars &lt;dbl&gt; | potass &lt;dbl&gt; | vitamins &lt;dbl&gt; | shelf &lt;dbl&gt; | weight &lt;dbl&gt; | cups &lt;dbl&gt; | rating &lt;dbl&gt; |\n",
       "|---|---|---|---|---|---|---|---|---|---|---|---|---|---|---|---|\n",
       "| 100% Bran                 | N | C |  70 | 4 | 1 | 130 | 10.0 |  5.0 |  6 | 280 | 25 | 3 | 1.00 | 0.33 | 68.40297 |\n",
       "| 100% Natural Bran         | Q | C | 120 | 3 | 5 |  15 |  2.0 |  8.0 |  8 | 135 |  0 | 3 | 1.00 | 1.00 | 33.98368 |\n",
       "| All-Bran                  | K | C |  70 | 4 | 1 | 260 |  9.0 |  7.0 |  5 | 320 | 25 | 3 | 1.00 | 0.33 | 59.42551 |\n",
       "| All-Bran with Extra Fiber | K | C |  50 | 4 | 0 | 140 | 14.0 |  8.0 |  0 | 330 | 25 | 3 | 1.00 | 0.50 | 93.70491 |\n",
       "| Almond Delight            | R | C | 110 | 2 | 2 | 200 |  1.0 | 14.0 |  8 | NaN | 25 | 3 | 1.00 | 0.75 | 34.38484 |\n",
       "| Apple Cinnamon Cheerios   | G | C | 110 | 2 | 2 | 180 |  1.5 | 10.5 | 10 |  70 | 25 | 1 | 1.00 | 0.75 | 29.50954 |\n",
       "| Apple Jacks               | K | C | 110 | 2 | 0 | 125 |  1.0 | 11.0 | 14 |  30 | 25 | 2 | 1.00 | 1.00 | 33.17409 |\n",
       "| Basic 4                   | G | C | 130 | 3 | 2 | 210 |  2.0 | 18.0 |  8 | 100 | 25 | 3 | 1.33 | 0.75 | 37.03856 |\n",
       "| Bran Chex                 | R | C |  90 | 2 | 1 | 200 |  4.0 | 15.0 |  6 | 125 | 25 | 1 | 1.00 | 0.67 | 49.12025 |\n",
       "| Bran Flakes               | P | C |  90 | 3 | 0 | 210 |  5.0 | 13.0 |  5 | 190 | 25 | 3 | 1.00 | 0.67 | 53.31381 |\n",
       "| ⋮ | ⋮ | ⋮ | ⋮ | ⋮ | ⋮ | ⋮ | ⋮ | ⋮ | ⋮ | ⋮ | ⋮ | ⋮ | ⋮ | ⋮ | ⋮ |\n",
       "| Special K               | K | C | 110 | 6 | 0 | 230 | 1 | 16 |  3 |  55 |  25 | 1 | 1.0 | 1.00 | 53.13132 |\n",
       "| Strawberry Fruit Wheats | N | C |  90 | 2 | 0 |  15 | 3 | 15 |  5 |  90 |  25 | 2 | 1.0 | 1.00 | 59.36399 |\n",
       "| Total Corn Flakes       | G | C | 110 | 2 | 1 | 200 | 0 | 21 |  3 |  35 | 100 | 3 | 1.0 | 1.00 | 38.83975 |\n",
       "| Total Raisin Bran       | G | C | 140 | 3 | 1 | 190 | 4 | 15 | 14 | 230 | 100 | 3 | 1.5 | 1.00 | 28.59278 |\n",
       "| Total Whole Grain       | G | C | 100 | 3 | 1 | 200 | 3 | 16 |  3 | 110 | 100 | 3 | 1.0 | 1.00 | 46.65884 |\n",
       "| Triples                 | G | C | 110 | 2 | 1 | 250 | 0 | 21 |  3 |  60 |  25 | 3 | 1.0 | 0.75 | 39.10617 |\n",
       "| Trix                    | G | C | 110 | 1 | 1 | 140 | 0 | 13 | 12 |  25 |  25 | 2 | 1.0 | 1.00 | 27.75330 |\n",
       "| Wheat Chex              | R | C | 100 | 3 | 1 | 230 | 3 | 17 |  3 | 115 |  25 | 1 | 1.0 | 0.67 | 49.78744 |\n",
       "| Wheaties                | G | C | 100 | 3 | 1 | 200 | 3 | 17 |  3 | 110 |  25 | 1 | 1.0 | 1.00 | 51.59219 |\n",
       "| Wheaties Honey Gold     | G | C | 110 | 2 | 1 | 200 | 1 | 16 |  8 |  60 |  25 | 1 | 1.0 | 0.75 | 36.18756 |\n",
       "\n"
      ],
      "text/plain": [
       "   name                      mfr c_type calories protein fat sodium fiber carbo\n",
       "1  100% Bran                 N   C       70      4       1   130    10.0   5.0 \n",
       "2  100% Natural Bran         Q   C      120      3       5    15     2.0   8.0 \n",
       "3  All-Bran                  K   C       70      4       1   260     9.0   7.0 \n",
       "4  All-Bran with Extra Fiber K   C       50      4       0   140    14.0   8.0 \n",
       "5  Almond Delight            R   C      110      2       2   200     1.0  14.0 \n",
       "6  Apple Cinnamon Cheerios   G   C      110      2       2   180     1.5  10.5 \n",
       "7  Apple Jacks               K   C      110      2       0   125     1.0  11.0 \n",
       "8  Basic 4                   G   C      130      3       2   210     2.0  18.0 \n",
       "9  Bran Chex                 R   C       90      2       1   200     4.0  15.0 \n",
       "10 Bran Flakes               P   C       90      3       0   210     5.0  13.0 \n",
       "⋮  ⋮                         ⋮   ⋮      ⋮        ⋮       ⋮   ⋮      ⋮     ⋮    \n",
       "68 Special K                 K   C      110      6       0   230    1     16   \n",
       "69 Strawberry Fruit Wheats   N   C       90      2       0    15    3     15   \n",
       "70 Total Corn Flakes         G   C      110      2       1   200    0     21   \n",
       "71 Total Raisin Bran         G   C      140      3       1   190    4     15   \n",
       "72 Total Whole Grain         G   C      100      3       1   200    3     16   \n",
       "73 Triples                   G   C      110      2       1   250    0     21   \n",
       "74 Trix                      G   C      110      1       1   140    0     13   \n",
       "75 Wheat Chex                R   C      100      3       1   230    3     17   \n",
       "76 Wheaties                  G   C      100      3       1   200    3     17   \n",
       "77 Wheaties Honey Gold       G   C      110      2       1   200    1     16   \n",
       "   sugars potass vitamins shelf weight cups rating  \n",
       "1   6     280    25       3     1.00   0.33 68.40297\n",
       "2   8     135     0       3     1.00   1.00 33.98368\n",
       "3   5     320    25       3     1.00   0.33 59.42551\n",
       "4   0     330    25       3     1.00   0.50 93.70491\n",
       "5   8     NaN    25       3     1.00   0.75 34.38484\n",
       "6  10      70    25       1     1.00   0.75 29.50954\n",
       "7  14      30    25       2     1.00   1.00 33.17409\n",
       "8   8     100    25       3     1.33   0.75 37.03856\n",
       "9   6     125    25       1     1.00   0.67 49.12025\n",
       "10  5     190    25       3     1.00   0.67 53.31381\n",
       "⋮  ⋮      ⋮      ⋮        ⋮     ⋮      ⋮    ⋮       \n",
       "68  3      55     25      1     1.0    1.00 53.13132\n",
       "69  5      90     25      2     1.0    1.00 59.36399\n",
       "70  3      35    100      3     1.0    1.00 38.83975\n",
       "71 14     230    100      3     1.5    1.00 28.59278\n",
       "72  3     110    100      3     1.0    1.00 46.65884\n",
       "73  3      60     25      3     1.0    0.75 39.10617\n",
       "74 12      25     25      2     1.0    1.00 27.75330\n",
       "75  3     115     25      1     1.0    0.67 49.78744\n",
       "76  3     110     25      1     1.0    1.00 51.59219\n",
       "77  8      60     25      1     1.0    0.75 36.18756"
      ]
     },
     "metadata": {},
     "output_type": "display_data"
    }
   ],
   "source": [
    "dataframe = readr::read_csv(\"datasets/cereal.csv\")\n",
    "\n",
    "dataframe\n",
    "\n",
    "#<xml xmlns=\"https://developers.google.com/blockly/xml\"><variables><variable id=\"4;{[+@#gOm/c5([T,n2i\">dataframe</variable><variable id=\"u8fL^76ay#32Pa-V4ka5\">readr</variable></variables><block type=\"variables_set\" id=\"*C=2h/wc9DuEr8Sp.787\" x=\"39\" y=\"236\"><field name=\"VAR\" id=\"4;{[+@#gOm/c5([T,n2i\">dataframe</field><value name=\"VALUE\"><block type=\"varDoMethod_R\" id=\"_D[7ff*T1jyQ;h%iO=)S\"><mutation items=\"1\"></mutation><field name=\"VAR\" id=\"u8fL^76ay#32Pa-V4ka5\">readr</field><field name=\"MEMBER\">read_csv</field><data>readr:read_csv</data><value name=\"ADD0\"><block type=\"text\" id=\"/774K;9F9kAJ}}s$K(EK\"><field name=\"TEXT\">datasets/cereal.csv</field></block></value></block></value></block><block type=\"variables_get\" id=\"K3$P1%jhLD8={bosHpI`\" x=\"30\" y=\"314\"><field name=\"VAR\" id=\"4;{[+@#gOm/c5([T,n2i\">dataframe</field></block></xml>"
   ]
  },
  {
   "cell_type": "markdown",
   "metadata": {},
   "source": [
    "## Research questions\n",
    "\n",
    "Any plot you make should be designed to address a question.\n",
    "At this point, we're **not making a statistical/quantitative argument** but rather a qualitative one.\n",
    "\n",
    "Here are some possible/plausible questions. \n",
    "For each one, think about the type of plot that might make the most sense.\n",
    "Then open up the dropdown to see the plot we're going to do.\n",
    "If you think we're choosing wrong, bring it up for discussion!"
   ]
  },
  {
   "cell_type": "markdown",
   "metadata": {},
   "source": [
    "#### Do fat and sugar go together?\n",
    "\n",
    "We might expect that fatty cereals have a lot of sugar and vice versa.\n",
    "What would be a good plot?\n",
    "\n",
    "<details>\n",
    "  <summary>Answer</summary>\n",
    "  \n",
    "  Since both variables are both ratio, a scatterplot makes sense. That way we can see the individual datapoints and even label them if we want.\n",
    "</details>"
   ]
  },
  {
   "cell_type": "markdown",
   "metadata": {},
   "source": [
    "#### Do some manufacturers have more sugar in their cereals than others?\n",
    "\n",
    "Maybe all manufacturers have similar product lines, but maybe some specialize in sugary cereal.\n",
    "What would be a good plot?\n",
    "\n",
    "<details>\n",
    "  <summary>Answer</summary>\n",
    "  \n",
    "  Since manufacturer is nominal and we want to compare manufacturers on a single value, a barplot makes sense. Then we can use the average amount of sugar for each one.\n",
    "</details>"
   ]
  },
  {
   "cell_type": "markdown",
   "metadata": {},
   "source": [
    "#### How do hot and cold cereals compare on healthy attributes like protein, fiber, and vitamins?\n",
    "\n",
    "Hot cereals are often more traditional and less processed, so maybe they have a better nutritional profile.\n",
    "What would be a good plot?\n",
    "\n",
    "<details>\n",
    "  <summary>Answer</summary>\n",
    "  \n",
    "  Since hot/cold is nominal and we want to compare them on multiple values, a line plot makes sense. We would then plot each healthy attribute as its own line on the plot.\n",
    "</details>"
   ]
  },
  {
   "cell_type": "markdown",
   "metadata": {},
   "source": [
    "#### Is protein approximately normally distributed, or are their cereals with unusually high and low amounts of protein?\n",
    "\n",
    "If protein is not being manipulated by manufacturers, we'd expect it to be approximately normal. But if manufacturers are intentionally adding/removing protein, we might see that in the distribution of the variable.\n",
    "What would be a good plot?\n",
    "\n",
    "<details>\n",
    "  <summary>Answer</summary>\n",
    "  \n",
    "  Histograms are the only plot we've talked about for the distribution of a variable.\n",
    "</details>"
   ]
  },
  {
   "cell_type": "markdown",
   "metadata": {},
   "source": [
    "## Do fat and sugar go together?\n",
    "\n",
    "Make a scatterplot using `fat` and `sugars`"
   ]
  },
  {
   "cell_type": "code",
   "execution_count": 20,
   "metadata": {},
   "outputs": [
    {
     "name": "stderr",
     "output_type": "stream",
     "text": [
      "Warning message:\n",
      "“Removed 1 rows containing missing values (geom_point).”\n"
     ]
    },
    {
     "data": {
      "image/png": "[encoded data removed]",
      "text/plain": [
       "plot without title"
      ]
     },
     "metadata": {
      "image/png": {
       "height": 420,
       "width": 420
      }
     },
     "output_type": "display_data"
    }
   ],
   "source": [
    "ggplot2::ggplot(dataframe,aes(x=fat, y=sugars)) +\n",
    "    ggplot2::geom_point()\n",
    "\n",
    "#<xml xmlns=\"https://developers.google.com/blockly/xml\"><variables><variable id=\"K2WB)HAgulDnN4.esuaK\">ggplot2</variable><variable id=\"4;{[+@#gOm/c5([T,n2i\">dataframe</variable></variables><block type=\"ggplot_plus_R\" id=\"TGEN;JR7XrLBEIFe~u;F\" x=\"-49\" y=\"109\"><mutation items=\"1\"></mutation><value name=\"INPUT\"><block type=\"varDoMethod_R\" id=\"s$Aa#z^bfxQ]I|$aqxkB\"><mutation items=\"2\"></mutation><field name=\"VAR\" id=\"K2WB)HAgulDnN4.esuaK\">ggplot2</field><field name=\"MEMBER\">ggplot</field><data>ggplot2:ggplot</data><value name=\"ADD0\"><block type=\"variables_get\" id=\"k8cxEeQDUlvzny5TMcSa\"><field name=\"VAR\" id=\"4;{[+@#gOm/c5([T,n2i\">dataframe</field></block></value><value name=\"ADD1\"><block type=\"dummyOutputCodeBlock_R\" id=\"R5)9uH[M?{qTsc(g*EC9\"><field name=\"CODE\">aes(x=fat, y=sugars)</field></block></value></block></value><value name=\"ADD0\"><block type=\"varDoMethod_R\" id=\"?c8)3RrgU,tKM=z(B}3!\"><mutation items=\"1\"></mutation><field name=\"VAR\" id=\"K2WB)HAgulDnN4.esuaK\">ggplot2</field><field name=\"MEMBER\">geom_point</field><data>ggplot2:geom_point</data></block></value></block></xml>"
   ]
  },
  {
   "cell_type": "markdown",
   "metadata": {},
   "source": [
    "<details>\n",
    "  <summary>Interpretation</summary>\n",
    "  \n",
    "That's a curious graph!\n",
    "Notice first that although there are 70+ cereals, we're only seeing about 35 points.\n",
    "That's because some cereals have the same values for sugar and fat, so they are plotted on top of each other - something to watch out for!\n",
    "\n",
    "Overall it looks like as fat increases, sugar goes to the middle of the range, i.e. about 7, rather than going high with it.\n",
    "</details>\n"
   ]
  },
  {
   "cell_type": "markdown",
   "metadata": {},
   "source": [
    "## Do some manufacturers have more sugar in their cereals than others?"
   ]
  },
  {
   "cell_type": "markdown",
   "metadata": {},
   "source": [
    "Make a barplot with the means of the manufacturers for `sugars`.\n",
    "\n",
    "*Hint: you don't need long format here.*"
   ]
  },
  {
   "cell_type": "code",
   "execution_count": 21,
   "metadata": {},
   "outputs": [
    {
     "name": "stderr",
     "output_type": "stream",
     "text": [
      "Warning message:\n",
      "“Removed 1 rows containing non-finite values (stat_summary).”\n"
     ]
    },
    {
     "data": {
      "image/png": "[encoded data removed]",
      "text/plain": [
       "plot without title"
      ]
     },
     "metadata": {
      "image/png": {
       "height": 420,
       "width": 420
      }
     },
     "output_type": "display_data"
    }
   ],
   "source": [
    "ggplot2::ggplot(dataframe,aes(x=mfr,y=sugars,fill=mfr)) +\n",
    "    ggplot2::geom_bar(stat = \"summary\",fun = \"mean\",position=position_dodge())\n",
    "\n",
    "#<xml xmlns=\"https://developers.google.com/blockly/xml\"><variables><variable id=\"K2WB)HAgulDnN4.esuaK\">ggplot2</variable><variable id=\"4;{[+@#gOm/c5([T,n2i\">dataframe</variable></variables><block type=\"ggplot_plus_R\" id=\"TGEN;JR7XrLBEIFe~u;F\" x=\"-49\" y=\"109\"><mutation items=\"1\"></mutation><value name=\"INPUT\"><block type=\"varDoMethod_R\" id=\"s$Aa#z^bfxQ]I|$aqxkB\"><mutation items=\"2\"></mutation><field name=\"VAR\" id=\"K2WB)HAgulDnN4.esuaK\">ggplot2</field><field name=\"MEMBER\">ggplot</field><data>ggplot2:ggplot</data><value name=\"ADD0\"><block type=\"variables_get\" id=\"k8cxEeQDUlvzny5TMcSa\"><field name=\"VAR\" id=\"4;{[+@#gOm/c5([T,n2i\">dataframe</field></block></value><value name=\"ADD1\"><block type=\"dummyOutputCodeBlock_R\" id=\"R5)9uH[M?{qTsc(g*EC9\"><field name=\"CODE\">aes(x=mfr,y=sugars,fill=mfr)</field></block></value></block></value><value name=\"ADD0\"><block type=\"varDoMethod_R\" id=\"?c8)3RrgU,tKM=z(B}3!\"><mutation items=\"3\"></mutation><field name=\"VAR\" id=\"K2WB)HAgulDnN4.esuaK\">ggplot2</field><field name=\"MEMBER\">geom_bar</field><data>ggplot2:geom_bar</data><value name=\"ADD0\"><block type=\"dummyOutputCodeBlock_R\" id=\"T*:g0.U`rIP]gfPWJ1.w\"><field name=\"CODE\">stat = \"summary\"</field></block></value><value name=\"ADD1\"><block type=\"dummyOutputCodeBlock_R\" id=\"0zm`bk*_(buiW(/FH?uu\"><field name=\"CODE\">fun = \"mean\"</field></block></value><value name=\"ADD2\"><block type=\"dummyOutputCodeBlock_R\" id=\"ZKnkH9n/:j!]}K6iu*O%\"><field name=\"CODE\">position=position_dodge()</field></block></value></block></value></block></xml>"
   ]
  },
  {
   "cell_type": "markdown",
   "metadata": {},
   "source": [
    "<details>\n",
    "  <summary>Interpretation</summary>\n",
    "  \n",
    "It certainly looks like some manufacturers specialize in low sugar, e.g. `American Home Food Products` and `Nabisco`.\n",
    "</details>"
   ]
  },
  {
   "cell_type": "markdown",
   "metadata": {},
   "source": [
    "## How do hot and cold cereals compare on healthy attributes like protein, fiber, and vitamins?\n",
    "\n",
    "The first notebook made a line plot with the groups.\n",
    "However, that would show **all** the variables, and this dataframe has too many for that.\n",
    "\n",
    "So as a first step, create a new dataframe `healthy` with just the columns `c_type`,`protein`, `fiber`, `vitamins` in it.\n",
    "Then make a long dataframe `long` from `healthy`, and then display `long`.\n",
    "\n",
    "*Hint: selecting columns was shown in the 'Nature of data' notebook*."
   ]
  },
  {
   "cell_type": "code",
   "execution_count": 32,
   "metadata": {},
   "outputs": [
    {
     "data": {
      "text/html": [
       "<table class=\"dataframe\">\n",
       "<caption>A tibble: 231 × 3</caption>\n",
       "<thead>\n",
       "\t<tr><th scope=col>c_type</th><th scope=col>variable</th><th scope=col>value</th></tr>\n",
       "\t<tr><th scope=col>&lt;chr&gt;</th><th scope=col>&lt;chr&gt;</th><th scope=col>&lt;dbl&gt;</th></tr>\n",
       "</thead>\n",
       "<tbody>\n",
       "\t<tr><td>C</td><td>protein </td><td> 4</td></tr>\n",
       "\t<tr><td>C</td><td>fiber   </td><td>10</td></tr>\n",
       "\t<tr><td>C</td><td>vitamins</td><td>25</td></tr>\n",
       "\t<tr><td>C</td><td>protein </td><td> 3</td></tr>\n",
       "\t<tr><td>C</td><td>fiber   </td><td> 2</td></tr>\n",
       "\t<tr><td>C</td><td>vitamins</td><td> 0</td></tr>\n",
       "\t<tr><td>C</td><td>protein </td><td> 4</td></tr>\n",
       "\t<tr><td>C</td><td>fiber   </td><td> 9</td></tr>\n",
       "\t<tr><td>C</td><td>vitamins</td><td>25</td></tr>\n",
       "\t<tr><td>C</td><td>protein </td><td> 4</td></tr>\n",
       "\t<tr><td>⋮</td><td>⋮</td><td>⋮</td></tr>\n",
       "\t<tr><td>C</td><td>vitamins</td><td>25</td></tr>\n",
       "\t<tr><td>C</td><td>protein </td><td> 3</td></tr>\n",
       "\t<tr><td>C</td><td>fiber   </td><td> 3</td></tr>\n",
       "\t<tr><td>C</td><td>vitamins</td><td>25</td></tr>\n",
       "\t<tr><td>C</td><td>protein </td><td> 3</td></tr>\n",
       "\t<tr><td>C</td><td>fiber   </td><td> 3</td></tr>\n",
       "\t<tr><td>C</td><td>vitamins</td><td>25</td></tr>\n",
       "\t<tr><td>C</td><td>protein </td><td> 2</td></tr>\n",
       "\t<tr><td>C</td><td>fiber   </td><td> 1</td></tr>\n",
       "\t<tr><td>C</td><td>vitamins</td><td>25</td></tr>\n",
       "</tbody>\n",
       "</table>\n"
      ],
      "text/latex": [
       "A tibble: 231 × 3\n",
       "\\begin{tabular}{lll}\n",
       " c\\_type & variable & value\\\\\n",
       " <chr> & <chr> & <dbl>\\\\\n",
       "\\hline\n",
       "\t C & protein  &  4\\\\\n",
       "\t C & fiber    & 10\\\\\n",
       "\t C & vitamins & 25\\\\\n",
       "\t C & protein  &  3\\\\\n",
       "\t C & fiber    &  2\\\\\n",
       "\t C & vitamins &  0\\\\\n",
       "\t C & protein  &  4\\\\\n",
       "\t C & fiber    &  9\\\\\n",
       "\t C & vitamins & 25\\\\\n",
       "\t C & protein  &  4\\\\\n",
       "\t ⋮ & ⋮ & ⋮\\\\\n",
       "\t C & vitamins & 25\\\\\n",
       "\t C & protein  &  3\\\\\n",
       "\t C & fiber    &  3\\\\\n",
       "\t C & vitamins & 25\\\\\n",
       "\t C & protein  &  3\\\\\n",
       "\t C & fiber    &  3\\\\\n",
       "\t C & vitamins & 25\\\\\n",
       "\t C & protein  &  2\\\\\n",
       "\t C & fiber    &  1\\\\\n",
       "\t C & vitamins & 25\\\\\n",
       "\\end{tabular}\n"
      ],
      "text/markdown": [
       "\n",
       "A tibble: 231 × 3\n",
       "\n",
       "| c_type &lt;chr&gt; | variable &lt;chr&gt; | value &lt;dbl&gt; |\n",
       "|---|---|---|\n",
       "| C | protein  |  4 |\n",
       "| C | fiber    | 10 |\n",
       "| C | vitamins | 25 |\n",
       "| C | protein  |  3 |\n",
       "| C | fiber    |  2 |\n",
       "| C | vitamins |  0 |\n",
       "| C | protein  |  4 |\n",
       "| C | fiber    |  9 |\n",
       "| C | vitamins | 25 |\n",
       "| C | protein  |  4 |\n",
       "| ⋮ | ⋮ | ⋮ |\n",
       "| C | vitamins | 25 |\n",
       "| C | protein  |  3 |\n",
       "| C | fiber    |  3 |\n",
       "| C | vitamins | 25 |\n",
       "| C | protein  |  3 |\n",
       "| C | fiber    |  3 |\n",
       "| C | vitamins | 25 |\n",
       "| C | protein  |  2 |\n",
       "| C | fiber    |  1 |\n",
       "| C | vitamins | 25 |\n",
       "\n"
      ],
      "text/plain": [
       "    c_type variable value\n",
       "1   C      protein   4   \n",
       "2   C      fiber    10   \n",
       "3   C      vitamins 25   \n",
       "4   C      protein   3   \n",
       "5   C      fiber     2   \n",
       "6   C      vitamins  0   \n",
       "7   C      protein   4   \n",
       "8   C      fiber     9   \n",
       "9   C      vitamins 25   \n",
       "10  C      protein   4   \n",
       "⋮   ⋮      ⋮        ⋮    \n",
       "222 C      vitamins 25   \n",
       "223 C      protein   3   \n",
       "224 C      fiber     3   \n",
       "225 C      vitamins 25   \n",
       "226 C      protein   3   \n",
       "227 C      fiber     3   \n",
       "228 C      vitamins 25   \n",
       "229 C      protein   2   \n",
       "230 C      fiber     1   \n",
       "231 C      vitamins 25   "
      ]
     },
     "metadata": {},
     "output_type": "display_data"
    }
   ],
   "source": [
    "healthy = dplyr::select(dataframe,c_type,protein,fiber,vitamins)\n",
    "\n",
    "long = tidyr::pivot_longer(healthy,cols=protein:vitamins,names_to=\"variable\")\n",
    "\n",
    "long\n",
    "\n",
    "#<xml xmlns=\"https://developers.google.com/blockly/xml\"><variables><variable id=\"0O#9D6QT!8:zZfaersHo\">healthy</variable><variable id=\"@1x1nwzWN@%Z%C}2(F0v\">long</variable><variable id=\"EgykJ$xGwtJi8=dmq*,X\">dplyr</variable><variable id=\"XxDURHz6QPK@1*~gXTIg\">tidyr</variable><variable id=\"4;{[+@#gOm/c5([T,n2i\">dataframe</variable></variables><block type=\"variables_set\" id=\"D2G^{s^fn7yrUk[HMyfq\" x=\"-90\" y=\"151\"><field name=\"VAR\" id=\"0O#9D6QT!8:zZfaersHo\">healthy</field><value name=\"VALUE\"><block type=\"varDoMethod_R\" id=\"016*xZ)e~Tp7fDZ,/|j-\"><mutation items=\"2\"></mutation><field name=\"VAR\" id=\"EgykJ$xGwtJi8=dmq*,X\">dplyr</field><field name=\"MEMBER\">select</field><data>dplyr:select</data><value name=\"ADD0\"><block type=\"variables_get\" id=\"dE3nm]QJn!1_ex:a(2JK\"><field name=\"VAR\" id=\"4;{[+@#gOm/c5([T,n2i\">dataframe</field></block></value><value name=\"ADD1\"><block type=\"dummyOutputCodeBlock_R\" id=\"F$iP.lEjMqEwF)UIpvY]\"><field name=\"CODE\">c_type,protein,fiber,vitamins</field></block></value></block></value></block><block type=\"variables_set\" id=\"f?X]naiTL=$m?mm~i=tN\" x=\"-85\" y=\"293\"><field name=\"VAR\" id=\"@1x1nwzWN@%Z%C}2(F0v\">long</field><value name=\"VALUE\"><block type=\"varDoMethod_R\" id=\"$l1jaz:5#XYMHS#f9T8K\"><mutation items=\"3\"></mutation><field name=\"VAR\" id=\"XxDURHz6QPK@1*~gXTIg\">tidyr</field><field name=\"MEMBER\">pivot_longer</field><data>tidyr:pivot_longer</data><value name=\"ADD0\"><block type=\"variables_get\" id=\"w2N:G:d7$/UkIOxEe[_=\"><field name=\"VAR\" id=\"0O#9D6QT!8:zZfaersHo\">healthy</field></block></value><value name=\"ADD1\"><block type=\"dummyOutputCodeBlock_R\" id=\"21{SA}|rhG]E:srxcUIE\"><field name=\"CODE\">cols=protein:vitamins</field></block></value><value name=\"ADD2\"><block type=\"dummyOutputCodeBlock_R\" id=\"/-@lEgrrkK]pd;#Y;YJY\"><field name=\"CODE\">names_to=\"variable\"</field></block></value></block></value></block><block type=\"variables_get\" id=\"A+.I^`8Mwwm}(,EIp_dn\" x=\"-78\" y=\"473\"><field name=\"VAR\" id=\"@1x1nwzWN@%Z%C}2(F0v\">long</field></block></xml>"
   ]
  },
  {
   "cell_type": "markdown",
   "metadata": {},
   "source": [
    "Now make the line plot using the mean of `c_type`, i.e. `c_type` is your x-axis and you are grouping on `variable`."
   ]
  },
  {
   "cell_type": "code",
   "execution_count": 33,
   "metadata": {},
   "outputs": [
    {
     "data": {
      "image/png": "[encoded data removed]",
      "text/plain": [
       "plot without title"
      ]
     },
     "metadata": {
      "image/png": {
       "height": 420,
       "width": 420
      }
     },
     "output_type": "display_data"
    }
   ],
   "source": [
    "ggplot2::ggplot(long,aes(x=c_type,y=value,group=variable,color=variable)) +\n",
    "    ggplot2::geom_line(stat = \"summary\",fun = \"mean\")\n",
    "\n",
    "#<xml xmlns=\"https://developers.google.com/blockly/xml\"><variables><variable id=\"K2WB)HAgulDnN4.esuaK\">ggplot2</variable><variable id=\"@1x1nwzWN@%Z%C}2(F0v\">long</variable></variables><block type=\"ggplot_plus_R\" id=\"TGEN;JR7XrLBEIFe~u;F\" x=\"-49\" y=\"109\"><mutation items=\"1\"></mutation><value name=\"INPUT\"><block type=\"varDoMethod_R\" id=\"s$Aa#z^bfxQ]I|$aqxkB\"><mutation items=\"2\"></mutation><field name=\"VAR\" id=\"K2WB)HAgulDnN4.esuaK\">ggplot2</field><field name=\"MEMBER\">ggplot</field><data>ggplot2:ggplot</data><value name=\"ADD0\"><block type=\"variables_get\" id=\"k8cxEeQDUlvzny5TMcSa\"><field name=\"VAR\" id=\"@1x1nwzWN@%Z%C}2(F0v\">long</field></block></value><value name=\"ADD1\"><block type=\"dummyOutputCodeBlock_R\" id=\"R5)9uH[M?{qTsc(g*EC9\"><field name=\"CODE\">aes(x=c_type,y=value,group=variable,color=variable)</field></block></value></block></value><value name=\"ADD0\"><block type=\"varDoMethod_R\" id=\"?c8)3RrgU,tKM=z(B}3!\"><mutation items=\"2\"></mutation><field name=\"VAR\" id=\"K2WB)HAgulDnN4.esuaK\">ggplot2</field><field name=\"MEMBER\">geom_line</field><data>ggplot2:geom_line</data><value name=\"ADD0\"><block type=\"dummyOutputCodeBlock_R\" id=\"T*:g0.U`rIP]gfPWJ1.w\"><field name=\"CODE\">stat = \"summary\"</field></block></value><value name=\"ADD1\"><block type=\"dummyOutputCodeBlock_R\" id=\"0zm`bk*_(buiW(/FH?uu\"><field name=\"CODE\">fun = \"mean\"</field></block></value></block></value></block></xml>"
   ]
  },
  {
   "cell_type": "markdown",
   "metadata": {},
   "source": [
    "<details>\n",
    "  <summary>Interpretation</summary>\n",
    "  \n",
    "Again, very interesting - looks like cold cereals are being enriched with vitamins in a way hot cereals are not.\n",
    "Hot cereals have a bit more protein but surprisingly less fiber.\n",
    "</details>\n"
   ]
  },
  {
   "cell_type": "markdown",
   "metadata": {},
   "source": [
    "## Is protein approximately normally distributed, or are their cereals with unusually high and low amounts of protein?\n",
    "\n",
    "Make a histogram on `protein` using `dataframe`.\n",
    "A small bin size is appropriate."
   ]
  },
  {
   "cell_type": "code",
   "execution_count": 37,
   "metadata": {},
   "outputs": [
    {
     "data": {
      "image/png": "[encoded data removed]",
      "text/plain": [
       "plot without title"
      ]
     },
     "metadata": {
      "image/png": {
       "height": 420,
       "width": 420
      }
     },
     "output_type": "display_data"
    }
   ],
   "source": [
    "ggplot2::ggplot(dataframe,aes(x=protein)) +\n",
    "    ggplot2::geom_histogram(bins=5)\n",
    "\n",
    "#<xml xmlns=\"https://developers.google.com/blockly/xml\"><variables><variable id=\"K2WB)HAgulDnN4.esuaK\">ggplot2</variable><variable id=\"4;{[+@#gOm/c5([T,n2i\">dataframe</variable></variables><block type=\"ggplot_plus_R\" id=\"TGEN;JR7XrLBEIFe~u;F\" x=\"-49\" y=\"109\"><mutation items=\"1\"></mutation><value name=\"INPUT\"><block type=\"varDoMethod_R\" id=\"s$Aa#z^bfxQ]I|$aqxkB\"><mutation items=\"2\"></mutation><field name=\"VAR\" id=\"K2WB)HAgulDnN4.esuaK\">ggplot2</field><field name=\"MEMBER\">ggplot</field><data>ggplot2:ggplot</data><value name=\"ADD0\"><block type=\"variables_get\" id=\"k8cxEeQDUlvzny5TMcSa\"><field name=\"VAR\" id=\"4;{[+@#gOm/c5([T,n2i\">dataframe</field></block></value><value name=\"ADD1\"><block type=\"dummyOutputCodeBlock_R\" id=\"R5)9uH[M?{qTsc(g*EC9\"><field name=\"CODE\">aes(x=protein)</field></block></value></block></value><value name=\"ADD0\"><block type=\"varDoMethod_R\" id=\"?c8)3RrgU,tKM=z(B}3!\"><mutation items=\"1\"></mutation><field name=\"VAR\" id=\"K2WB)HAgulDnN4.esuaK\">ggplot2</field><field name=\"MEMBER\">geom_histogram</field><data>ggplot2:geom_histogram</data><value name=\"ADD0\"><block type=\"dummyOutputCodeBlock_R\" id=\"(d*$86:Idy8`NbT4}aVB\"><field name=\"CODE\">bins=5</field></block></value></block></value></block></xml>"
   ]
  },
  {
   "cell_type": "markdown",
   "metadata": {},
   "source": [
    "<details>\n",
    "  <summary>Interpretation</summary>\n",
    "  \n",
    "That certainly doesn't look normal.\n",
    "It seems that protein is being manipulated somehow when the level is high.\n",
    "</details>"
   ]
  },
  {
   "cell_type": "markdown",
   "metadata": {},
   "source": [
    "<!--  -->"
   ]
  }
 ],
 "metadata": {
  "kernelspec": {
   "display_name": "R",
   "language": "R",
   "name": "ir"
  },
  "language_info": {
   "codemirror_mode": "r",
   "file_extension": ".r",
   "mimetype": "text/x-r-source",
   "name": "R",
   "pygments_lexer": "r",
   "version": "4.1.2"
  }
 },
 "nbformat": 4,
 "nbformat_minor": 4
}
