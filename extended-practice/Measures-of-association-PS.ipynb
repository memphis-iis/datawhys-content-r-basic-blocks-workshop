{
 "cells": [
  {
   "cell_type": "markdown",
   "metadata": {
    "deletable": false,
    "editable": false
   },
   "source": [
    "Copyright 2022 Andrew M. Olney, Dale Bowman and made available under [CC BY-SA](https://creativecommons.org/licenses/by-sa/4.0) for text and [Apache-2.0](http://www.apache.org/licenses/LICENSE-2.0) for code."
   ]
  },
  {
   "cell_type": "markdown",
   "metadata": {},
   "source": [
    "# Measures of association: Problem solving\n",
    "\n",
    "In this session we will take a closer look at the relationship between scatterplots and correlation matrices across several datasets."
   ]
  },
  {
   "cell_type": "markdown",
   "metadata": {},
   "source": [
    "## Import libraries\n",
    "\n",
    "We need to load our data into a dataframe and do some plots, so import `readr`, `corrr`, `dplyr`, and `tidyr` below."
   ]
  },
  {
   "cell_type": "code",
   "execution_count": 9,
   "metadata": {},
   "outputs": [],
   "source": []
  },
  {
   "cell_type": "markdown",
   "metadata": {},
   "source": [
    "## MPG\n",
    "\n",
    "We'll use a new dataset that has the horsepower, MPG, and other features of 1970s cars called `mpg`.\n",
    "\n",
    "Load the CSV file \"datasets/mpg.csv\" into a dataframe."
   ]
  },
  {
   "cell_type": "code",
   "execution_count": 2,
   "metadata": {},
   "outputs": [],
   "source": []
  },
  {
   "cell_type": "markdown",
   "metadata": {},
   "source": [
    "Now create and show a correlation matrix for the `mpg` dataframe."
   ]
  },
  {
   "cell_type": "code",
   "execution_count": 3,
   "metadata": {},
   "outputs": [],
   "source": []
  },
  {
   "cell_type": "markdown",
   "metadata": {},
   "source": [
    "As we stated before, it's a lot easier to see the correlations as a heatmap, especially when there are a lot of them.\n",
    "\n",
    "Create a tidy heatmap below."
   ]
  },
  {
   "cell_type": "code",
   "execution_count": 4,
   "metadata": {},
   "outputs": [],
   "source": []
  },
  {
   "cell_type": "markdown",
   "metadata": {},
   "source": [
    "**QUESTION:**\n",
    "\n",
    "Why do you think `acceleration` and `mpg` are positively correlated?"
   ]
  },
  {
   "cell_type": "markdown",
   "metadata": {},
   "source": [
    "**ANSWER: (click here to edit)**\n",
    "\n\n<hr>"
   ]
  },
  {
   "cell_type": "markdown",
   "metadata": {},
   "source": [
    "**QUESTION:**\n",
    "\n",
    "Why do you think `model_year` and `mpg` are positively correlated?"
   ]
  },
  {
   "cell_type": "markdown",
   "metadata": {},
   "source": [
    "**ANSWER: (click here to edit)**\n",
    "\n\n<hr>"
   ]
  },
  {
   "cell_type": "markdown",
   "metadata": {},
   "source": [
    "**Here's something we didn't do before**, but it's very similar to `ggplot` plots we've already done.\n",
    "\n",
    "Instead of a heat plot, we can show a matrix of scatterplots.\n",
    "First, we have to load the `GGally` package:\n",
    "\n",
    "- `library GGally`"
   ]
  },
  {
   "cell_type": "code",
   "execution_count": 5,
   "metadata": {},
   "outputs": [],
   "source": []
  },
  {
   "cell_type": "markdown",
   "metadata": {},
   "source": [
    "Now we can create a scatter matrix highlighting `mpg`.\n",
    "We have to remove the `name` column because it has too many values, and we have to use `drop_na` because we have missing values:\n",
    "\n",
    "- `pipe`\n",
    "    - `dataframe`\n",
    "    - to with `dplyr` do `select`\n",
    "        - using `-name`\n",
    "    - then to with `tidyr` do `drop_na`\n",
    "    - then to with `GGally` do `ggpairs`"
   ]
  },
  {
   "cell_type": "code",
   "execution_count": 10,
   "metadata": {},
   "outputs": [],
   "source": []
  },
  {
   "cell_type": "markdown",
   "metadata": {},
   "source": [
    "In the lower left corner, this figure has a matrix of scatterplots, one for each combination of variables in the dataframe.\n",
    "On the diagonal, it has a *density plot*, which is like a smoothed histogram.\n",
    "On the upper diagonal, it has the correlations for each combination of variables, along with the significance of those correlations denoted by `*`.\n",
    "\n",
    "**Remember that correlation is a *linear* relationship, so curves and outliers can distort correlations.**\n",
    "\n",
    "**QUESTION:**\n",
    "\n",
    "Looking at the scatterplot matrix, which variables have a linear relationship with `mpg`? \n",
    "Which have curved relationships with `mpg`?\n",
    "Which variables have outliers in their scatterplots with `mpg`?"
   ]
  },
  {
   "cell_type": "markdown",
   "metadata": {},
   "source": [
    "**ANSWER: (click here to edit)**\n",
    "\n\n<hr>"
   ]
  },
  {
   "cell_type": "markdown",
   "metadata": {},
   "source": [
    "**QUESTION:**\n",
    "\n",
    "Looking at the scatterplot matrix, which variables have a linear relationship with `cylinders`? \n",
    "Which have curved relationships with `cylinders`?\n",
    "Which variables have outliers in their scatterplots with `cylinders`?"
   ]
  },
  {
   "cell_type": "markdown",
   "metadata": {},
   "source": [
    "**ANSWER: (click here to edit)**\n",
    "\n\n<hr>"
   ]
  },
  {
   "cell_type": "markdown",
   "metadata": {},
   "source": [
    "**QUESTION:**\n",
    "\n",
    "How do the answers to the three questions above change for `displacement`, `horsepower`, and `weight`?"
   ]
  },
  {
   "cell_type": "markdown",
   "metadata": {},
   "source": [
    "**ANSWER: (click here to edit)**\n",
    "\n\n<hr>"
   ]
  },
  {
   "cell_type": "markdown",
   "metadata": {},
   "source": [
    "**QUESTION:**\n",
    "\n",
    "With respect to the variable `mpg`, what correlations should we be careful with?"
   ]
  },
  {
   "cell_type": "markdown",
   "metadata": {},
   "source": [
    "**ANSWER: (click here to edit)**\n",
    "\n\n<hr>"
   ]
  },
  {
   "cell_type": "markdown",
   "metadata": {},
   "source": [
    "**QUESTION:**\n",
    "\n",
    "Are the associations between these variables and `mpg` likely to be weaker or stronger than the correlations suggest?"
   ]
  },
  {
   "cell_type": "markdown",
   "metadata": {},
   "source": [
    "**ANSWER: (click here to edit)**\n",
    "\n\n<hr>"
   ]
  },
  {
   "cell_type": "markdown",
   "metadata": {},
   "source": [
    "<!--  -->"
   ]
  }
 ],
 "metadata": {
  "kernelspec": {
   "display_name": "R",
   "language": "R",
   "name": "ir"
  },
  "language_info": {
   "codemirror_mode": "r",
   "file_extension": ".r",
   "mimetype": "text/x-r-source",
   "name": "R",
   "pygments_lexer": "r",
   "version": "4.2.1"
  }
 },
 "nbformat": 4,
 "nbformat_minor": 4
}
