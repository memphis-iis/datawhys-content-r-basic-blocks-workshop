{
 "cells": [
  {
   "cell_type": "markdown",
   "metadata": {
    "deletable": false,
    "editable": false
   },
   "source": [
    "Copyright 2022 Andrew M. Olney, Dale Bowman and made available under [CC BY-SA](https://creativecommons.org/licenses/by-sa/4.0) for text and [Apache-2.0](http://www.apache.org/licenses/LICENSE-2.0) for code."
   ]
  },
  {
   "cell_type": "markdown",
   "metadata": {},
   "source": [
    "# Descriptive statistics: Problem solving\n",
    "\n",
    "Let's practice some of the skills we learned in the last session on descriptive statistics."
   ]
  },
  {
   "cell_type": "markdown",
   "metadata": {},
   "source": [
    "## Import libraries\n",
    "\n",
    "We can calculate measures of central tendency and spread using various R packages.\n",
    "\n",
    "First thing you need to do is load `readr`,`dplyr`,`modeest`, and `base` below.\n",
    "[Use the Reference if you've forgotten any of these steps](Reference.html)."
   ]
  },
  {
   "cell_type": "code",
   "execution_count": 1,
   "metadata": {},
   "outputs": [
    {
     "name": "stderr",
     "output_type": "stream",
     "text": [
      "\n",
      "Attaching package: ‘dplyr’\n",
      "\n",
      "\n",
      "The following objects are masked from ‘package:stats’:\n",
      "\n",
      "    filter, lag\n",
      "\n",
      "\n",
      "The following objects are masked from ‘package:base’:\n",
      "\n",
      "    intersect, setdiff, setequal, union\n",
      "\n",
      "\n"
     ]
    }
   ],
   "source": [
    "library(readr)\n",
    "library(dplyr)\n",
    "library(modeest)\n",
    "library(base)\n",
    "\n",
    "#<xml xmlns=\"https://developers.google.com/blockly/xml\"><variables><variable id=\"YL8X8;LE`^hm(/Pe7$zz\">readr</variable><variable id=\"eNrJ9[?:!)MH8@C/C@}4\">dplyr</variable><variable id=\"GX/Uo@ZFZu^h,-ci@W#@\">modeest</variable><variable id=\"6C!l+@S8,SvtzakmsxQD\">base</variable></variables><block type=\"import_R\" id=\")gCNH+.NV+:cDFy_#e8~\" x=\"-161\" y=\"-4\"><field name=\"libraryName\" id=\"YL8X8;LE`^hm(/Pe7$zz\">readr</field><next><block type=\"import_R\" id=\"2o-m{U`}_E~uI;9,@2`X\"><field name=\"libraryName\" id=\"eNrJ9[?:!)MH8@C/C@}4\">dplyr</field><next><block type=\"import_R\" id=\"0L5{.eg@X=H]IcB,/c~m\"><field name=\"libraryName\" id=\"GX/Uo@ZFZu^h,-ci@W#@\">modeest</field><next><block type=\"import_R\" id=\".^q,UQ:2??HV@c?)%|gM\"><field name=\"libraryName\" id=\"6C!l+@S8,SvtzakmsxQD\">base</field></block></next></block></next></block></next></block></xml>"
   ]
  },
  {
   "cell_type": "markdown",
   "metadata": {},
   "source": [
    "## Load data\n",
    "\n",
    "We're going to work with different data on flowers.\n",
    "\n",
    "Load the CSV file `\"datasets/flower-data-2020.csv\"` into a dataframe."
   ]
  },
  {
   "cell_type": "code",
   "execution_count": 2,
   "metadata": {},
   "outputs": [
    {
     "name": "stderr",
     "output_type": "stream",
     "text": [
      "\u001b[1mRows: \u001b[22m\u001b[34m210\u001b[39m \u001b[1mColumns: \u001b[22m\u001b[34m3\u001b[39m\n",
      "\u001b[36m──\u001b[39m \u001b[1mColumn specification\u001b[22m \u001b[36m────────────────────────────────────────────────────────\u001b[39m\n",
      "\u001b[1mDelimiter:\u001b[22m \",\"\n",
      "\u001b[31mchr\u001b[39m (2): PetalColor, PetalShape\n",
      "\u001b[32mdbl\u001b[39m (1): Size\n",
      "\n",
      "\u001b[36mℹ\u001b[39m Use `spec()` to retrieve the full column specification for this data.\n",
      "\u001b[36mℹ\u001b[39m Specify the column types or set `show_col_types = FALSE` to quiet this message.\n"
     ]
    }
   ],
   "source": [
    "dataframe = readr::read_csv(\"datasets/flower-data-2020.csv\")\n",
    "\n",
    "#<xml xmlns=\"https://developers.google.com/blockly/xml\"><variables><variable id=\"[V~uW+0L/4GW;45ulv+l\">dataframe</variable><variable id=\"YL8X8;LE`^hm(/Pe7$zz\">readr</variable></variables><block type=\"variables_set\" id=\"i*U..F)p9r]#n*e(./*x\" x=\"21\" y=\"231\"><field name=\"VAR\" id=\"[V~uW+0L/4GW;45ulv+l\">dataframe</field><value name=\"VALUE\"><block type=\"varDoMethod_R\" id=\"htvh#$.niiw,Td~O$-IK\"><mutation items=\"1\"></mutation><field name=\"VAR\" id=\"YL8X8;LE`^hm(/Pe7$zz\">readr</field><field name=\"MEMBER\">read_csv</field><data>readr:read_csv</data><value name=\"ADD0\"><block type=\"text\" id=\"~Mspn1jJRE!J8ISd3!#V\"><field name=\"TEXT\">datasets/flower-data-2020.csv</field></block></value></block></value></block></xml>"
   ]
  },
  {
   "cell_type": "markdown",
   "metadata": {},
   "source": [
    "## Flower mean/median/mode\n",
    "\n",
    "In the next three cells,  calculate the mean, median, and mode for the dataframe."
   ]
  },
  {
   "cell_type": "code",
   "execution_count": 7,
   "metadata": {},
   "outputs": [
    {
     "name": "stderr",
     "output_type": "stream",
     "text": [
      "Warning message in mean.default(PetalColor):\n",
      "“argument is not numeric or logical: returning NA”\n",
      "Warning message in mean.default(PetalShape):\n",
      "“argument is not numeric or logical: returning NA”\n"
     ]
    },
    {
     "data": {
      "text/html": [
       "<table class=\"dataframe\">\n",
       "<caption>A tibble: 1 × 3</caption>\n",
       "<thead>\n",
       "\t<tr><th scope=col>PetalColor</th><th scope=col>PetalShape</th><th scope=col>Size</th></tr>\n",
       "\t<tr><th scope=col>&lt;dbl&gt;</th><th scope=col>&lt;dbl&gt;</th><th scope=col>&lt;dbl&gt;</th></tr>\n",
       "</thead>\n",
       "<tbody>\n",
       "\t<tr><td>NA</td><td>NA</td><td>2.109524</td></tr>\n",
       "</tbody>\n",
       "</table>\n"
      ],
      "text/latex": [
       "A tibble: 1 × 3\n",
       "\\begin{tabular}{lll}\n",
       " PetalColor & PetalShape & Size\\\\\n",
       " <dbl> & <dbl> & <dbl>\\\\\n",
       "\\hline\n",
       "\t NA & NA & 2.109524\\\\\n",
       "\\end{tabular}\n"
      ],
      "text/markdown": [
       "\n",
       "A tibble: 1 × 3\n",
       "\n",
       "| PetalColor &lt;dbl&gt; | PetalShape &lt;dbl&gt; | Size &lt;dbl&gt; |\n",
       "|---|---|---|\n",
       "| NA | NA | 2.109524 |\n",
       "\n"
      ],
      "text/plain": [
       "  PetalColor PetalShape Size    \n",
       "1 NA         NA         2.109524"
      ]
     },
     "metadata": {},
     "output_type": "display_data"
    }
   ],
   "source": [
    "dplyr::summarize_all(dataframe,mean)\n",
    "\n",
    "#<xml xmlns=\"https://developers.google.com/blockly/xml\"><variables><variable id=\"eNrJ9[?:!)MH8@C/C@}4\">dplyr</variable><variable id=\"[V~uW+0L/4GW;45ulv+l\">dataframe</variable></variables><block type=\"varDoMethod_R\" id=\"=MAns7O}vNQfzgRDmbcb\" x=\"-134\" y=\"430\"><mutation items=\"2\"></mutation><field name=\"VAR\" id=\"eNrJ9[?:!)MH8@C/C@}4\">dplyr</field><field name=\"MEMBER\">summarize_all</field><data>dplyr:summarize_all</data><value name=\"ADD0\"><block type=\"variables_get\" id=\"-V9}eO5`X|QK)c^lbdfU\"><field name=\"VAR\" id=\"[V~uW+0L/4GW;45ulv+l\">dataframe</field></block></value><value name=\"ADD1\"><block type=\"dummyOutputCodeBlock_R\" id=\"?t=j0HEPW-K[J09^ND6+\"><field name=\"CODE\">mean</field></block></value></block></xml>"
   ]
  },
  {
   "cell_type": "code",
   "execution_count": 4,
   "metadata": {},
   "outputs": [
    {
     "name": "stderr",
     "output_type": "stream",
     "text": [
      "Warning message in mean.default(sort(x, partial = half + 0L:1L)[half + 0L:1L]):\n",
      "“argument is not numeric or logical: returning NA”\n",
      "Warning message in mean.default(sort(x, partial = half + 0L:1L)[half + 0L:1L]):\n",
      "“argument is not numeric or logical: returning NA”\n"
     ]
    },
    {
     "data": {
      "text/html": [
       "<table class=\"dataframe\">\n",
       "<caption>A tibble: 1 × 3</caption>\n",
       "<thead>\n",
       "\t<tr><th scope=col>PetalColor</th><th scope=col>PetalShape</th><th scope=col>Size</th></tr>\n",
       "\t<tr><th scope=col>&lt;dbl&gt;</th><th scope=col>&lt;dbl&gt;</th><th scope=col>&lt;dbl&gt;</th></tr>\n",
       "</thead>\n",
       "<tbody>\n",
       "\t<tr><td>NA</td><td>NA</td><td>2</td></tr>\n",
       "</tbody>\n",
       "</table>\n"
      ],
      "text/latex": [
       "A tibble: 1 × 3\n",
       "\\begin{tabular}{lll}\n",
       " PetalColor & PetalShape & Size\\\\\n",
       " <dbl> & <dbl> & <dbl>\\\\\n",
       "\\hline\n",
       "\t NA & NA & 2\\\\\n",
       "\\end{tabular}\n"
      ],
      "text/markdown": [
       "\n",
       "A tibble: 1 × 3\n",
       "\n",
       "| PetalColor &lt;dbl&gt; | PetalShape &lt;dbl&gt; | Size &lt;dbl&gt; |\n",
       "|---|---|---|\n",
       "| NA | NA | 2 |\n",
       "\n"
      ],
      "text/plain": [
       "  PetalColor PetalShape Size\n",
       "1 NA         NA         2   "
      ]
     },
     "metadata": {},
     "output_type": "display_data"
    }
   ],
   "source": [
    "dplyr::summarize_all(dataframe,median)\n",
    "\n",
    "#<xml xmlns=\"https://developers.google.com/blockly/xml\"><variables><variable id=\"eNrJ9[?:!)MH8@C/C@}4\">dplyr</variable><variable id=\"[V~uW+0L/4GW;45ulv+l\">dataframe</variable></variables><block type=\"varDoMethod_R\" id=\"=MAns7O}vNQfzgRDmbcb\" x=\"-134\" y=\"430\"><mutation items=\"2\"></mutation><field name=\"VAR\" id=\"eNrJ9[?:!)MH8@C/C@}4\">dplyr</field><field name=\"MEMBER\">summarize_all</field><data>dplyr:summarize_all</data><value name=\"ADD0\"><block type=\"variables_get\" id=\"-V9}eO5`X|QK)c^lbdfU\"><field name=\"VAR\" id=\"[V~uW+0L/4GW;45ulv+l\">dataframe</field></block></value><value name=\"ADD1\"><block type=\"dummyOutputCodeBlock_R\" id=\"?t=j0HEPW-K[J09^ND6+\"><field name=\"CODE\">median</field></block></value></block></xml>"
   ]
  },
  {
   "cell_type": "code",
   "execution_count": 5,
   "metadata": {},
   "outputs": [
    {
     "data": {
      "text/html": [
       "<table class=\"dataframe\">\n",
       "<caption>A tibble: 1 × 3</caption>\n",
       "<thead>\n",
       "\t<tr><th scope=col>PetalColor</th><th scope=col>PetalShape</th><th scope=col>Size</th></tr>\n",
       "\t<tr><th scope=col>&lt;chr&gt;</th><th scope=col>&lt;chr&gt;</th><th scope=col>&lt;dbl&gt;</th></tr>\n",
       "</thead>\n",
       "<tbody>\n",
       "\t<tr><td>unicolor</td><td>unrounded</td><td>2</td></tr>\n",
       "</tbody>\n",
       "</table>\n"
      ],
      "text/latex": [
       "A tibble: 1 × 3\n",
       "\\begin{tabular}{lll}\n",
       " PetalColor & PetalShape & Size\\\\\n",
       " <chr> & <chr> & <dbl>\\\\\n",
       "\\hline\n",
       "\t unicolor & unrounded & 2\\\\\n",
       "\\end{tabular}\n"
      ],
      "text/markdown": [
       "\n",
       "A tibble: 1 × 3\n",
       "\n",
       "| PetalColor &lt;chr&gt; | PetalShape &lt;chr&gt; | Size &lt;dbl&gt; |\n",
       "|---|---|---|\n",
       "| unicolor | unrounded | 2 |\n",
       "\n"
      ],
      "text/plain": [
       "  PetalColor PetalShape Size\n",
       "1 unicolor   unrounded  2   "
      ]
     },
     "metadata": {},
     "output_type": "display_data"
    }
   ],
   "source": [
    "dplyr::summarize_all(dataframe,mfv)\n",
    "\n",
    "#<xml xmlns=\"https://developers.google.com/blockly/xml\"><variables><variable id=\"eNrJ9[?:!)MH8@C/C@}4\">dplyr</variable><variable id=\"[V~uW+0L/4GW;45ulv+l\">dataframe</variable></variables><block type=\"varDoMethod_R\" id=\"=MAns7O}vNQfzgRDmbcb\" x=\"-134\" y=\"430\"><mutation items=\"2\"></mutation><field name=\"VAR\" id=\"eNrJ9[?:!)MH8@C/C@}4\">dplyr</field><field name=\"MEMBER\">summarize_all</field><data>dplyr:summarize_all</data><value name=\"ADD0\"><block type=\"variables_get\" id=\"-V9}eO5`X|QK)c^lbdfU\"><field name=\"VAR\" id=\"[V~uW+0L/4GW;45ulv+l\">dataframe</field></block></value><value name=\"ADD1\"><block type=\"dummyOutputCodeBlock_R\" id=\"?t=j0HEPW-K[J09^ND6+\"><field name=\"CODE\">mfv</field></block></value></block></xml>"
   ]
  },
  {
   "cell_type": "markdown",
   "metadata": {},
   "source": [
    "**QUESTION:**\n",
    "\n",
    "How are the mean, median, and mode different here?\n",
    "Write your answer in the cell below."
   ]
  },
  {
   "cell_type": "markdown",
   "metadata": {},
   "source": [
    "**ANSWER: (click here to edit)**\n",
    "\n",
    "*In this case, the mean, median, and mode are almost the same*"
   ]
  },
  {
   "cell_type": "markdown",
   "metadata": {},
   "source": [
    "**QUESTION:**\n",
    "\n",
    "Why do the mean and the median have values for `Size`, but the mode has values for `PetalColor`, `PetalShape`, and `Size`?\n",
    "Write your answer in the cell below."
   ]
  },
  {
   "cell_type": "markdown",
   "metadata": {},
   "source": [
    "**ANSWER: (click here to edit)**\n",
    "\n",
    "*`Size` is numeric (actually ordinal), so it is the only variable Python will calculate mean and median for. \n",
    "It actually is incorrect to calculate mean because it is ordinal, but Python isn't smart enough to know that because we didn't tell it our data was ordinal. \n",
    "This is a good example of being careful with computers - they will do exactly what we tell them to do even if it is incorrect. \n",
    "It is up to us to make sure we understand the reasoning behind what we are doing so we can recognize when the computer gives us garbage answers.*"
   ]
  },
  {
   "cell_type": "markdown",
   "metadata": {},
   "source": [
    "## Outlier effects\n",
    "\n",
    "Let's look at some different data: a students quiz grades across a course.\n",
    "\n",
    "Suppose a student received the following grades:\n",
    "\n",
    "- 0\n",
    "- 85\n",
    "- 82\n",
    "- 91\n",
    "- 82\n",
    "\n",
    "In the next cell, make a new variable using this list of numbers."
   ]
  },
  {
   "cell_type": "code",
   "execution_count": 8,
   "metadata": {},
   "outputs": [],
   "source": [
    "grades = list(0, 85, 82, 91, 82)\n",
    "\n",
    "#<xml xmlns=\"https://developers.google.com/blockly/xml\"><variables><variable id=\"0Z~AP{;(K9p1).M_No)5\">grades</variable></variables><block type=\"variables_set\" id=\"$i4P5XZdFpM39po?yw,c\" x=\"-117\" y=\"40\"><field name=\"VAR\" id=\"0Z~AP{;(K9p1).M_No)5\">grades</field><value name=\"VALUE\"><block type=\"lists_create_with\" id=\"KjbE9Dq5M9W*3^baxu|p\"><mutation items=\"5\"></mutation><value name=\"ADD0\"><block type=\"math_number\" id=\"/^$/i0SDA`yDbC:r*iu6\"><field name=\"NUM\">0</field></block></value><value name=\"ADD1\"><block type=\"math_number\" id=\":.Fpd|MKxA=Z-e*kVQVv\"><field name=\"NUM\">85</field></block></value><value name=\"ADD2\"><block type=\"math_number\" id=\"g%+CYWG1sGy.lX?Ag;WD\"><field name=\"NUM\">82</field></block></value><value name=\"ADD3\"><block type=\"math_number\" id=\"UpE]HA~w_s.-J[jYY+f{\"><field name=\"NUM\">91</field></block></value><value name=\"ADD4\"><block type=\"math_number\" id=\"OXCO[%*AfHSHC?{@,S,F\"><field name=\"NUM\">82</field></block></value></block></value></block></xml>"
   ]
  },
  {
   "cell_type": "markdown",
   "metadata": {},
   "source": [
    "Now display the mean, median, and mode of this grades dataframe in the next cell."
   ]
  },
  {
   "cell_type": "code",
   "execution_count": 9,
   "metadata": {},
   "outputs": [
    {
     "data": {
      "text/html": [
       "68"
      ],
      "text/latex": [
       "68"
      ],
      "text/markdown": [
       "68"
      ],
      "text/plain": [
       "[1] 68"
      ]
     },
     "metadata": {},
     "output_type": "display_data"
    },
    {
     "data": {
      "text/html": [
       "82"
      ],
      "text/latex": [
       "82"
      ],
      "text/markdown": [
       "82"
      ],
      "text/plain": [
       "[1] 82"
      ]
     },
     "metadata": {},
     "output_type": "display_data"
    },
    {
     "data": {
      "text/html": [
       "82"
      ],
      "text/latex": [
       "82"
      ],
      "text/markdown": [
       "82"
      ],
      "text/plain": [
       "[1] 82"
      ]
     },
     "metadata": {},
     "output_type": "display_data"
    }
   ],
   "source": [
    "mean(unlist(grades))\n",
    "\n",
    "median(unlist(grades))\n",
    "\n",
    "unique(unlist(grades))[which.max(tabulate(match(grades, unique(unlist(grades)))))]\n",
    "\n",
    "#<xml xmlns=\"https://developers.google.com/blockly/xml\"><variables><variable id=\"0Z~AP{;(K9p1).M_No)5\">grades</variable></variables><block type=\"math_on_list\" id=\"SaZu#bD[X[#bT%Qv+{K(\" x=\"-98\" y=\"181\"><mutation op=\"AVERAGE\"></mutation><field name=\"OP\">AVERAGE</field><value name=\"LIST\"><block type=\"variables_get\" id=\"+C^!,9C)MS(sq2o,|s[d\"><field name=\"VAR\" id=\"0Z~AP{;(K9p1).M_No)5\">grades</field></block></value></block><block type=\"math_on_list\" id=\"c`o786sqo^S_,F%VrBmA\" x=\"-70\" y=\"237\"><mutation op=\"MEDIAN\"></mutation><field name=\"OP\">MEDIAN</field><value name=\"LIST\"><block type=\"variables_get\" id=\"y|XjTAr1D7ZlK!;|TIaL\"><field name=\"VAR\" id=\"0Z~AP{;(K9p1).M_No)5\">grades</field></block></value></block><block type=\"math_on_list\" id=\"HW?D{^a0t5sMM)kgf89g\" x=\"-42\" y=\"293\"><mutation op=\"MODE\"></mutation><field name=\"OP\">MODE</field><value name=\"LIST\"><block type=\"variables_get\" id=\"RZY5CBP_B@.P=zTUQ_Ds\"><field name=\"VAR\" id=\"0Z~AP{;(K9p1).M_No)5\">grades</field></block></value></block></xml>"
   ]
  },
  {
   "cell_type": "markdown",
   "metadata": {},
   "source": [
    "In the cell below, copy the blocks where you created the grades list but remove the `0` from the list."
   ]
  },
  {
   "cell_type": "code",
   "execution_count": 10,
   "metadata": {},
   "outputs": [],
   "source": [
    "grades = list(82, 85, 82, 91)\n",
    "\n",
    "#<xml xmlns=\"https://developers.google.com/blockly/xml\"><variables><variable id=\"0Z~AP{;(K9p1).M_No)5\">grades</variable></variables><block type=\"variables_set\" id=\"$i4P5XZdFpM39po?yw,c\" x=\"-117\" y=\"40\"><field name=\"VAR\" id=\"0Z~AP{;(K9p1).M_No)5\">grades</field><value name=\"VALUE\"><block type=\"lists_create_with\" id=\"KjbE9Dq5M9W*3^baxu|p\"><mutation items=\"4\"></mutation><value name=\"ADD0\"><block type=\"math_number\" id=\"OXCO[%*AfHSHC?{@,S,F\"><field name=\"NUM\">82</field></block></value><value name=\"ADD1\"><block type=\"math_number\" id=\":.Fpd|MKxA=Z-e*kVQVv\"><field name=\"NUM\">85</field></block></value><value name=\"ADD2\"><block type=\"math_number\" id=\"g%+CYWG1sGy.lX?Ag;WD\"><field name=\"NUM\">82</field></block></value><value name=\"ADD3\"><block type=\"math_number\" id=\"UpE]HA~w_s.-J[jYY+f{\"><field name=\"NUM\">91</field></block></value></block></value></block></xml>"
   ]
  },
  {
   "cell_type": "markdown",
   "metadata": {},
   "source": [
    "Now `print` the mean, median, and mode of this grades list (without `0`) in the next cell."
   ]
  },
  {
   "cell_type": "code",
   "execution_count": 11,
   "metadata": {},
   "outputs": [
    {
     "data": {
      "text/html": [
       "85"
      ],
      "text/latex": [
       "85"
      ],
      "text/markdown": [
       "85"
      ],
      "text/plain": [
       "[1] 85"
      ]
     },
     "metadata": {},
     "output_type": "display_data"
    },
    {
     "data": {
      "text/html": [
       "83.5"
      ],
      "text/latex": [
       "83.5"
      ],
      "text/markdown": [
       "83.5"
      ],
      "text/plain": [
       "[1] 83.5"
      ]
     },
     "metadata": {},
     "output_type": "display_data"
    },
    {
     "data": {
      "text/html": [
       "82"
      ],
      "text/latex": [
       "82"
      ],
      "text/markdown": [
       "82"
      ],
      "text/plain": [
       "[1] 82"
      ]
     },
     "metadata": {},
     "output_type": "display_data"
    }
   ],
   "source": [
    "mean(unlist(grades))\n",
    "\n",
    "median(unlist(grades))\n",
    "\n",
    "unique(unlist(grades))[which.max(tabulate(match(grades, unique(unlist(grades)))))]\n",
    "\n",
    "#<xml xmlns=\"https://developers.google.com/blockly/xml\"><variables><variable id=\"0Z~AP{;(K9p1).M_No)5\">grades</variable></variables><block type=\"math_on_list\" id=\"SaZu#bD[X[#bT%Qv+{K(\" x=\"-98\" y=\"181\"><mutation op=\"AVERAGE\"></mutation><field name=\"OP\">AVERAGE</field><value name=\"LIST\"><block type=\"variables_get\" id=\"+C^!,9C)MS(sq2o,|s[d\"><field name=\"VAR\" id=\"0Z~AP{;(K9p1).M_No)5\">grades</field></block></value></block><block type=\"math_on_list\" id=\"c`o786sqo^S_,F%VrBmA\" x=\"-70\" y=\"237\"><mutation op=\"MEDIAN\"></mutation><field name=\"OP\">MEDIAN</field><value name=\"LIST\"><block type=\"variables_get\" id=\"y|XjTAr1D7ZlK!;|TIaL\"><field name=\"VAR\" id=\"0Z~AP{;(K9p1).M_No)5\">grades</field></block></value></block><block type=\"math_on_list\" id=\"HW?D{^a0t5sMM)kgf89g\" x=\"-42\" y=\"293\"><mutation op=\"MODE\"></mutation><field name=\"OP\">MODE</field><value name=\"LIST\"><block type=\"variables_get\" id=\"RZY5CBP_B@.P=zTUQ_Ds\"><field name=\"VAR\" id=\"0Z~AP{;(K9p1).M_No)5\">grades</field></block></value></block></xml>"
   ]
  },
  {
   "cell_type": "markdown",
   "metadata": {},
   "source": [
    "**QUESTION:**\n",
    "\n",
    "- How did the mean, median, and mode change after you dropped the zero?\n",
    "- What does dropping the zero mean to the student who took this class?\n",
    "- Which measures are most affected/least affected by outliers?\n",
    "\n",
    "Write your answer in the cell below."
   ]
  },
  {
   "cell_type": "markdown",
   "metadata": {},
   "source": [
    "**ANSWER: (click here to edit)**\n",
    "\n",
    "*Median changed very slightly and mode did not change at all.\n",
    "Mean changed dramatically from 68 to 85.\n",
    "This means the student would go from a D to a B in the class.\n",
    "This is an example of how an outlier can have a strong effect on the mean, and how the other measures of central tendency are resistant to outliers.*"
   ]
  },
  {
   "cell_type": "markdown",
   "metadata": {},
   "source": [
    "## Dataframe sampling\n",
    "\n",
    "Let's switch back to the flower dataframe.\n",
    "\n",
    "In the cell below, get the five number summary of the dataframe."
   ]
  },
  {
   "cell_type": "code",
   "execution_count": 12,
   "metadata": {},
   "outputs": [
    {
     "data": {
      "text/plain": [
       "  PetalColor         PetalShape             Size     \n",
       " Length:210         Length:210         Min.   :1.00  \n",
       " Class :character   Class :character   1st Qu.:2.00  \n",
       " Mode  :character   Mode  :character   Median :2.00  \n",
       "                                       Mean   :2.11  \n",
       "                                       3rd Qu.:3.00  \n",
       "                                       Max.   :3.00  "
      ]
     },
     "metadata": {},
     "output_type": "display_data"
    }
   ],
   "source": [
    "base::summary(dataframe)\n",
    "\n",
    "#<xml xmlns=\"https://developers.google.com/blockly/xml\"><variables><variable id=\"6C!l+@S8,SvtzakmsxQD\">base</variable><variable id=\"[V~uW+0L/4GW;45ulv+l\">dataframe</variable></variables><block type=\"varDoMethod_R\" id=\"P5gpP{%i$*wLa8p,jj7D\" x=\"-123\" y=\"162\"><mutation items=\"1\"></mutation><field name=\"VAR\" id=\"6C!l+@S8,SvtzakmsxQD\">base</field><field name=\"MEMBER\">summary</field><data>base:summary</data><value name=\"ADD0\"><block type=\"variables_get\" id=\"NQ/xj5MCwq{{tMJ@6at8\"><field name=\"VAR\" id=\"[V~uW+0L/4GW;45ulv+l\">dataframe</field></block></value></block></xml>"
   ]
  },
  {
   "cell_type": "markdown",
   "metadata": {},
   "source": [
    "## Sampling\n",
    "\n",
    "Now let's take samples from the flower dataframe, get their five number summaries, and compare those to each other and the entire dataframe.\n",
    "\n",
    "In the cell below, take a sample of `10` from the flowers dataframe, store it in a variable, and display the sample."
   ]
  },
  {
   "cell_type": "code",
   "execution_count": 13,
   "metadata": {},
   "outputs": [
    {
     "data": {
      "text/html": [
       "<table class=\"dataframe\">\n",
       "<caption>A spec_tbl_df: 10 × 3</caption>\n",
       "<thead>\n",
       "\t<tr><th scope=col>PetalColor</th><th scope=col>PetalShape</th><th scope=col>Size</th></tr>\n",
       "\t<tr><th scope=col>&lt;chr&gt;</th><th scope=col>&lt;chr&gt;</th><th scope=col>&lt;dbl&gt;</th></tr>\n",
       "</thead>\n",
       "<tbody>\n",
       "\t<tr><td>multicolor</td><td>unrounded</td><td>3</td></tr>\n",
       "\t<tr><td>unicolor  </td><td>unrounded</td><td>2</td></tr>\n",
       "\t<tr><td>unicolor  </td><td>unrounded</td><td>2</td></tr>\n",
       "\t<tr><td>unicolor  </td><td>rounded  </td><td>3</td></tr>\n",
       "\t<tr><td>unicolor  </td><td>rounded  </td><td>3</td></tr>\n",
       "\t<tr><td>multicolor</td><td>unrounded</td><td>2</td></tr>\n",
       "\t<tr><td>unicolor  </td><td>unrounded</td><td>2</td></tr>\n",
       "\t<tr><td>multicolor</td><td>unrounded</td><td>2</td></tr>\n",
       "\t<tr><td>unicolor  </td><td>rounded  </td><td>2</td></tr>\n",
       "\t<tr><td>unicolor  </td><td>unrounded</td><td>2</td></tr>\n",
       "</tbody>\n",
       "</table>\n"
      ],
      "text/latex": [
       "A spec\\_tbl\\_df: 10 × 3\n",
       "\\begin{tabular}{lll}\n",
       " PetalColor & PetalShape & Size\\\\\n",
       " <chr> & <chr> & <dbl>\\\\\n",
       "\\hline\n",
       "\t multicolor & unrounded & 3\\\\\n",
       "\t unicolor   & unrounded & 2\\\\\n",
       "\t unicolor   & unrounded & 2\\\\\n",
       "\t unicolor   & rounded   & 3\\\\\n",
       "\t unicolor   & rounded   & 3\\\\\n",
       "\t multicolor & unrounded & 2\\\\\n",
       "\t unicolor   & unrounded & 2\\\\\n",
       "\t multicolor & unrounded & 2\\\\\n",
       "\t unicolor   & rounded   & 2\\\\\n",
       "\t unicolor   & unrounded & 2\\\\\n",
       "\\end{tabular}\n"
      ],
      "text/markdown": [
       "\n",
       "A spec_tbl_df: 10 × 3\n",
       "\n",
       "| PetalColor &lt;chr&gt; | PetalShape &lt;chr&gt; | Size &lt;dbl&gt; |\n",
       "|---|---|---|\n",
       "| multicolor | unrounded | 3 |\n",
       "| unicolor   | unrounded | 2 |\n",
       "| unicolor   | unrounded | 2 |\n",
       "| unicolor   | rounded   | 3 |\n",
       "| unicolor   | rounded   | 3 |\n",
       "| multicolor | unrounded | 2 |\n",
       "| unicolor   | unrounded | 2 |\n",
       "| multicolor | unrounded | 2 |\n",
       "| unicolor   | rounded   | 2 |\n",
       "| unicolor   | unrounded | 2 |\n",
       "\n"
      ],
      "text/plain": [
       "   PetalColor PetalShape Size\n",
       "1  multicolor unrounded  3   \n",
       "2  unicolor   unrounded  2   \n",
       "3  unicolor   unrounded  2   \n",
       "4  unicolor   rounded    3   \n",
       "5  unicolor   rounded    3   \n",
       "6  multicolor unrounded  2   \n",
       "7  unicolor   unrounded  2   \n",
       "8  multicolor unrounded  2   \n",
       "9  unicolor   rounded    2   \n",
       "10 unicolor   unrounded  2   "
      ]
     },
     "metadata": {},
     "output_type": "display_data"
    }
   ],
   "source": [
    "sample = dplyr::sample_n(dataframe,10)\n",
    "\n",
    "sample\n",
    "\n",
    "#<xml xmlns=\"https://developers.google.com/blockly/xml\"><variables><variable id=\"X~V70-15t9L^b}[IjBoW\">sample</variable><variable id=\"eNrJ9[?:!)MH8@C/C@}4\">dplyr</variable><variable id=\"[V~uW+0L/4GW;45ulv+l\">dataframe</variable></variables><block type=\"variables_set\" id=\"oLvPn#H_#KD]A.8$CUa#\" x=\"-114\" y=\"195\"><field name=\"VAR\" id=\"X~V70-15t9L^b}[IjBoW\">sample</field><value name=\"VALUE\"><block type=\"varDoMethod_R\" id=\"4_82p3|C@:,3[NUCW.:R\"><mutation items=\"2\"></mutation><field name=\"VAR\" id=\"eNrJ9[?:!)MH8@C/C@}4\">dplyr</field><field name=\"MEMBER\">sample_n</field><data>dplyr:sample_n</data><value name=\"ADD0\"><block type=\"variables_get\" id=\"p=-t+dH7[;}r7zQiPtd+\"><field name=\"VAR\" id=\"[V~uW+0L/4GW;45ulv+l\">dataframe</field></block></value><value name=\"ADD1\"><block type=\"math_number\" id=\"jdV9~GKS6nUY/*Yq0n3W\"><field name=\"NUM\">10</field></block></value></block></value></block><block type=\"variables_get\" id=\"nr5WrQE`[TvHgq(3vKz:\" x=\"-117\" y=\"308\"><field name=\"VAR\" id=\"X~V70-15t9L^b}[IjBoW\">sample</field></block></xml>"
   ]
  },
  {
   "cell_type": "markdown",
   "metadata": {},
   "source": [
    "In the cell below, repeat what you did above (take a sample of `10` and store it in a variable) but add below that a block doing a five number summary of the sample."
   ]
  },
  {
   "cell_type": "code",
   "execution_count": 23,
   "metadata": {},
   "outputs": [
    {
     "data": {
      "text/plain": [
       "  PetalColor         PetalShape             Size     \n",
       " Length:10          Length:10          Min.   :1.00  \n",
       " Class :character   Class :character   1st Qu.:1.25  \n",
       " Mode  :character   Mode  :character   Median :2.00  \n",
       "                                       Mean   :2.10  \n",
       "                                       3rd Qu.:3.00  \n",
       "                                       Max.   :3.00  "
      ]
     },
     "metadata": {},
     "output_type": "display_data"
    }
   ],
   "source": [
    "sample = dplyr::sample_n(dataframe,10)\n",
    "\n",
    "base::summary(sample)\n",
    "\n",
    "#<xml xmlns=\"https://developers.google.com/blockly/xml\"><variables><variable id=\"X~V70-15t9L^b}[IjBoW\">sample</variable><variable id=\"6C!l+@S8,SvtzakmsxQD\">base</variable><variable id=\"eNrJ9[?:!)MH8@C/C@}4\">dplyr</variable><variable id=\"[V~uW+0L/4GW;45ulv+l\">dataframe</variable></variables><block type=\"variables_set\" id=\"oLvPn#H_#KD]A.8$CUa#\" x=\"-114\" y=\"195\"><field name=\"VAR\" id=\"X~V70-15t9L^b}[IjBoW\">sample</field><value name=\"VALUE\"><block type=\"varDoMethod_R\" id=\"4_82p3|C@:,3[NUCW.:R\"><mutation items=\"2\"></mutation><field name=\"VAR\" id=\"eNrJ9[?:!)MH8@C/C@}4\">dplyr</field><field name=\"MEMBER\">sample_n</field><data>dplyr:sample_n</data><value name=\"ADD0\"><block type=\"variables_get\" id=\"p=-t+dH7[;}r7zQiPtd+\"><field name=\"VAR\" id=\"[V~uW+0L/4GW;45ulv+l\">dataframe</field></block></value><value name=\"ADD1\"><block type=\"math_number\" id=\"jdV9~GKS6nUY/*Yq0n3W\"><field name=\"NUM\">10</field></block></value></block></value></block><block type=\"varDoMethod_R\" id=\"kvGD5KF9c}I:W)@i-D9_\" x=\"-107\" y=\"319\"><mutation items=\"1\"></mutation><field name=\"VAR\" id=\"6C!l+@S8,SvtzakmsxQD\">base</field><field name=\"MEMBER\">summary</field><data>base:summary</data><value name=\"ADD0\"><block type=\"variables_get\" id=\".2Lig5(#`d[(Ph4b%)_l\"><field name=\"VAR\" id=\"X~V70-15t9L^b}[IjBoW\">sample</field></block></value></block></xml>"
   ]
  },
  {
   "cell_type": "markdown",
   "metadata": {},
   "source": [
    "Run this code cell a couple of times (trick: do Ctrl + Enter) to answer the next question.\n",
    "\n",
    "**QUESTION:**\n",
    "\n",
    "- How do min/max change across samples?\n",
    "- How does mean change across samples?\n",
    "- Why do you think this is, and do you expect to see it with other data?\n",
    "\n",
    "Write your answer in the cell below."
   ]
  },
  {
   "cell_type": "markdown",
   "metadata": {},
   "source": [
    "**ANSWER: (click here to edit)**\n",
    "\n",
    "*Min/max seem to be the same across samples.\n",
    "Mean changes a bit across samples like it did before.\n",
    "In general, we wouldn't expect min/max to be stable across samples.\n",
    "We often think of the min/max as being a unique value in the data, so the chance of getting either across multiple random samples is very low.\n",
    "In this case it happened because `Size` is ordinal with 3 values, and the min and max values occur very often*"
   ]
  },
  {
   "cell_type": "markdown",
   "metadata": {},
   "source": [
    "<!--  -->"
   ]
  }
 ],
 "metadata": {
  "kernelspec": {
   "display_name": "R",
   "language": "R",
   "name": "ir"
  },
  "language_info": {
   "codemirror_mode": "r",
   "file_extension": ".r",
   "mimetype": "text/x-r-source",
   "name": "R",
   "pygments_lexer": "r",
   "version": "4.2.1"
  }
 },
 "nbformat": 4,
 "nbformat_minor": 4
}
